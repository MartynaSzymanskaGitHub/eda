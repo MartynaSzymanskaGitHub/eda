{
 "cells": [
  {
   "cell_type": "markdown",
   "metadata": {
    "vscode": {
     "languageId": "plaintext"
    }
   },
   "source": [
    "Martyna Szymańska 245938"
   ]
  },
  {
   "cell_type": "code",
   "execution_count": 39,
   "metadata": {},
   "outputs": [],
   "source": [
    "import pandas as pd\n",
    "import numpy as np\n",
    "import matplotlib.pyplot as plt\n",
    "import seaborn as sns\n"
   ]
  },
  {
   "cell_type": "code",
   "execution_count": 47,
   "metadata": {},
   "outputs": [
    {
     "data": {
      "text/html": [
       "<div>\n",
       "<style scoped>\n",
       "    .dataframe tbody tr th:only-of-type {\n",
       "        vertical-align: middle;\n",
       "    }\n",
       "\n",
       "    .dataframe tbody tr th {\n",
       "        vertical-align: top;\n",
       "    }\n",
       "\n",
       "    .dataframe thead th {\n",
       "        text-align: right;\n",
       "    }\n",
       "</style>\n",
       "<table border=\"1\" class=\"dataframe\">\n",
       "  <thead>\n",
       "    <tr style=\"text-align: right;\">\n",
       "      <th></th>\n",
       "      <th>Kod</th>\n",
       "      <th>Nazwa</th>\n",
       "      <th>2010[%]</th>\n",
       "      <th>2014[%]</th>\n",
       "      <th>2018[%]</th>\n",
       "      <th>2022[%]</th>\n",
       "    </tr>\n",
       "  </thead>\n",
       "  <tbody>\n",
       "    <tr>\n",
       "      <th>0</th>\n",
       "      <td>200000</td>\n",
       "      <td>DOLNOŚLĄSKIE</td>\n",
       "      <td>82</td>\n",
       "      <td>69</td>\n",
       "      <td>77,1</td>\n",
       "      <td>74,8</td>\n",
       "    </tr>\n",
       "    <tr>\n",
       "      <th>1</th>\n",
       "      <td>400000</td>\n",
       "      <td>KUJAWSKO-POMORSKIE</td>\n",
       "      <td>83</td>\n",
       "      <td>71</td>\n",
       "      <td>78,2</td>\n",
       "      <td>76,1</td>\n",
       "    </tr>\n",
       "    <tr>\n",
       "      <th>2</th>\n",
       "      <td>600000</td>\n",
       "      <td>LUBELSKIE</td>\n",
       "      <td>80</td>\n",
       "      <td>70</td>\n",
       "      <td>79,3</td>\n",
       "      <td>77,1</td>\n",
       "    </tr>\n",
       "    <tr>\n",
       "      <th>3</th>\n",
       "      <td>800000</td>\n",
       "      <td>LUBUSKIE</td>\n",
       "      <td>82</td>\n",
       "      <td>74</td>\n",
       "      <td>79,7</td>\n",
       "      <td>77,2</td>\n",
       "    </tr>\n",
       "    <tr>\n",
       "      <th>4</th>\n",
       "      <td>1000000</td>\n",
       "      <td>ŁÓDZKIE</td>\n",
       "      <td>82</td>\n",
       "      <td>71</td>\n",
       "      <td>79,3</td>\n",
       "      <td>77</td>\n",
       "    </tr>\n",
       "  </tbody>\n",
       "</table>\n",
       "</div>"
      ],
      "text/plain": [
       "       Kod               Nazwa  2010[%]  2014[%] 2018[%] 2022[%]\n",
       "0   200000        DOLNOŚLĄSKIE       82       69    77,1    74,8\n",
       "1   400000  KUJAWSKO-POMORSKIE       83       71    78,2    76,1\n",
       "2   600000           LUBELSKIE       80       70    79,3    77,1\n",
       "3   800000            LUBUSKIE       82       74    79,7    77,2\n",
       "4  1000000             ŁÓDZKIE       82       71    79,3      77"
      ]
     },
     "execution_count": 47,
     "metadata": {},
     "output_type": "execute_result"
    }
   ],
   "source": [
    "education = pd.read_csv('matura2.csv', sep=';')\n",
    "education.head()"
   ]
  },
  {
   "cell_type": "code",
   "execution_count": 48,
   "metadata": {},
   "outputs": [
    {
     "data": {
      "text/html": [
       "<div>\n",
       "<style scoped>\n",
       "    .dataframe tbody tr th:only-of-type {\n",
       "        vertical-align: middle;\n",
       "    }\n",
       "\n",
       "    .dataframe tbody tr th {\n",
       "        vertical-align: top;\n",
       "    }\n",
       "\n",
       "    .dataframe thead th {\n",
       "        text-align: right;\n",
       "    }\n",
       "</style>\n",
       "<table border=\"1\" class=\"dataframe\">\n",
       "  <thead>\n",
       "    <tr style=\"text-align: right;\">\n",
       "      <th></th>\n",
       "      <th>Kod</th>\n",
       "      <th>Nazwa</th>\n",
       "      <th>obiekty sportowe ogółem;2010;[ob.]</th>\n",
       "      <th>obiekty sportowe ogółem;2014;[ob.]</th>\n",
       "      <th>obiekty sportowe ogółem;2018;[ob.]</th>\n",
       "      <th>obiekty sportowe ogółem;2022;[ob.]</th>\n",
       "      <th>stadiony;2010;[ob.]</th>\n",
       "      <th>stadiony;2014;[ob.]</th>\n",
       "      <th>stadiony;2018;[ob.]</th>\n",
       "      <th>stadiony;2022;[ob.]</th>\n",
       "      <th>...</th>\n",
       "      <th>skateparki;2022;[ob.]</th>\n",
       "      <th>siłownie zewnętrzne;2010;[ob.]</th>\n",
       "      <th>siłownie zewnętrzne;2014;[ob.]</th>\n",
       "      <th>siłownie zewnętrzne;2018;[ob.]</th>\n",
       "      <th>siłownie zewnętrzne;2022;[ob.]</th>\n",
       "      <th>stopień wykorzystania obiektów rekreacyjno-sportowych;2010;[%]</th>\n",
       "      <th>stopień wykorzystania obiektów rekreacyjno-sportowych;2014;[%]</th>\n",
       "      <th>stopień wykorzystania obiektów rekreacyjno-sportowych;2018;[%]</th>\n",
       "      <th>stopień wykorzystania obiektów rekreacyjno-sportowych;2022;[%]</th>\n",
       "      <th>Unnamed: 54</th>\n",
       "    </tr>\n",
       "  </thead>\n",
       "  <tbody>\n",
       "    <tr>\n",
       "      <th>0</th>\n",
       "      <td>200000</td>\n",
       "      <td>DOLNOŚLĄSKIE</td>\n",
       "      <td>1632</td>\n",
       "      <td>2054</td>\n",
       "      <td>2809</td>\n",
       "      <td>3229</td>\n",
       "      <td>185</td>\n",
       "      <td>166</td>\n",
       "      <td>207</td>\n",
       "      <td>179</td>\n",
       "      <td>...</td>\n",
       "      <td>58</td>\n",
       "      <td>NaN</td>\n",
       "      <td>133</td>\n",
       "      <td>620</td>\n",
       "      <td>1033</td>\n",
       "      <td>71,7</td>\n",
       "      <td>75,8</td>\n",
       "      <td>77,2</td>\n",
       "      <td>87,2</td>\n",
       "      <td>NaN</td>\n",
       "    </tr>\n",
       "    <tr>\n",
       "      <th>1</th>\n",
       "      <td>400000</td>\n",
       "      <td>KUJAWSKO-POMORSKIE</td>\n",
       "      <td>718</td>\n",
       "      <td>1121</td>\n",
       "      <td>1588</td>\n",
       "      <td>2181</td>\n",
       "      <td>117</td>\n",
       "      <td>103</td>\n",
       "      <td>112</td>\n",
       "      <td>107</td>\n",
       "      <td>...</td>\n",
       "      <td>44</td>\n",
       "      <td>NaN</td>\n",
       "      <td>116</td>\n",
       "      <td>475</td>\n",
       "      <td>919</td>\n",
       "      <td>79,1</td>\n",
       "      <td>83,9</td>\n",
       "      <td>85,3</td>\n",
       "      <td>88,8</td>\n",
       "      <td>NaN</td>\n",
       "    </tr>\n",
       "    <tr>\n",
       "      <th>2</th>\n",
       "      <td>600000</td>\n",
       "      <td>LUBELSKIE</td>\n",
       "      <td>642</td>\n",
       "      <td>848</td>\n",
       "      <td>1131</td>\n",
       "      <td>1708</td>\n",
       "      <td>125</td>\n",
       "      <td>124</td>\n",
       "      <td>122</td>\n",
       "      <td>128</td>\n",
       "      <td>...</td>\n",
       "      <td>27</td>\n",
       "      <td>NaN</td>\n",
       "      <td>49</td>\n",
       "      <td>295</td>\n",
       "      <td>700</td>\n",
       "      <td>71,9</td>\n",
       "      <td>71,6</td>\n",
       "      <td>76,1</td>\n",
       "      <td>86,3</td>\n",
       "      <td>NaN</td>\n",
       "    </tr>\n",
       "    <tr>\n",
       "      <th>3</th>\n",
       "      <td>800000</td>\n",
       "      <td>LUBUSKIE</td>\n",
       "      <td>516</td>\n",
       "      <td>720</td>\n",
       "      <td>1029</td>\n",
       "      <td>1331</td>\n",
       "      <td>58</td>\n",
       "      <td>75</td>\n",
       "      <td>69</td>\n",
       "      <td>72</td>\n",
       "      <td>...</td>\n",
       "      <td>32</td>\n",
       "      <td>NaN</td>\n",
       "      <td>45</td>\n",
       "      <td>266</td>\n",
       "      <td>508</td>\n",
       "      <td>68,8</td>\n",
       "      <td>69,8</td>\n",
       "      <td>76,6</td>\n",
       "      <td>85,7</td>\n",
       "      <td>NaN</td>\n",
       "    </tr>\n",
       "    <tr>\n",
       "      <th>4</th>\n",
       "      <td>1000000</td>\n",
       "      <td>ŁÓDZKIE</td>\n",
       "      <td>683</td>\n",
       "      <td>1115</td>\n",
       "      <td>1451</td>\n",
       "      <td>2049</td>\n",
       "      <td>82</td>\n",
       "      <td>121</td>\n",
       "      <td>116</td>\n",
       "      <td>104</td>\n",
       "      <td>...</td>\n",
       "      <td>41</td>\n",
       "      <td>NaN</td>\n",
       "      <td>67</td>\n",
       "      <td>348</td>\n",
       "      <td>824</td>\n",
       "      <td>78,7</td>\n",
       "      <td>79,3</td>\n",
       "      <td>83,3</td>\n",
       "      <td>88,6</td>\n",
       "      <td>NaN</td>\n",
       "    </tr>\n",
       "  </tbody>\n",
       "</table>\n",
       "<p>5 rows × 55 columns</p>\n",
       "</div>"
      ],
      "text/plain": [
       "       Kod               Nazwa  obiekty sportowe ogółem;2010;[ob.]  \\\n",
       "0   200000        DOLNOŚLĄSKIE                                1632   \n",
       "1   400000  KUJAWSKO-POMORSKIE                                 718   \n",
       "2   600000           LUBELSKIE                                 642   \n",
       "3   800000            LUBUSKIE                                 516   \n",
       "4  1000000             ŁÓDZKIE                                 683   \n",
       "\n",
       "   obiekty sportowe ogółem;2014;[ob.]  obiekty sportowe ogółem;2018;[ob.]  \\\n",
       "0                                2054                                2809   \n",
       "1                                1121                                1588   \n",
       "2                                 848                                1131   \n",
       "3                                 720                                1029   \n",
       "4                                1115                                1451   \n",
       "\n",
       "   obiekty sportowe ogółem;2022;[ob.]  stadiony;2010;[ob.]  \\\n",
       "0                                3229                  185   \n",
       "1                                2181                  117   \n",
       "2                                1708                  125   \n",
       "3                                1331                   58   \n",
       "4                                2049                   82   \n",
       "\n",
       "   stadiony;2014;[ob.]  stadiony;2018;[ob.]  stadiony;2022;[ob.]  ...  \\\n",
       "0                  166                  207                  179  ...   \n",
       "1                  103                  112                  107  ...   \n",
       "2                  124                  122                  128  ...   \n",
       "3                   75                   69                   72  ...   \n",
       "4                  121                  116                  104  ...   \n",
       "\n",
       "   skateparki;2022;[ob.]  siłownie zewnętrzne;2010;[ob.]  \\\n",
       "0                     58                             NaN   \n",
       "1                     44                             NaN   \n",
       "2                     27                             NaN   \n",
       "3                     32                             NaN   \n",
       "4                     41                             NaN   \n",
       "\n",
       "   siłownie zewnętrzne;2014;[ob.]  siłownie zewnętrzne;2018;[ob.]  \\\n",
       "0                             133                             620   \n",
       "1                             116                             475   \n",
       "2                              49                             295   \n",
       "3                              45                             266   \n",
       "4                              67                             348   \n",
       "\n",
       "   siłownie zewnętrzne;2022;[ob.]  \\\n",
       "0                            1033   \n",
       "1                             919   \n",
       "2                             700   \n",
       "3                             508   \n",
       "4                             824   \n",
       "\n",
       "   stopień wykorzystania obiektów rekreacyjno-sportowych;2010;[%]  \\\n",
       "0                                               71,7                \n",
       "1                                               79,1                \n",
       "2                                               71,9                \n",
       "3                                               68,8                \n",
       "4                                               78,7                \n",
       "\n",
       "   stopień wykorzystania obiektów rekreacyjno-sportowych;2014;[%]  \\\n",
       "0                                               75,8                \n",
       "1                                               83,9                \n",
       "2                                               71,6                \n",
       "3                                               69,8                \n",
       "4                                               79,3                \n",
       "\n",
       "   stopień wykorzystania obiektów rekreacyjno-sportowych;2018;[%]  \\\n",
       "0                                               77,2                \n",
       "1                                               85,3                \n",
       "2                                               76,1                \n",
       "3                                               76,6                \n",
       "4                                               83,3                \n",
       "\n",
       "   stopień wykorzystania obiektów rekreacyjno-sportowych;2022;[%]  Unnamed: 54  \n",
       "0                                               87,2                       NaN  \n",
       "1                                               88,8                       NaN  \n",
       "2                                               86,3                       NaN  \n",
       "3                                               85,7                       NaN  \n",
       "4                                               88,6                       NaN  \n",
       "\n",
       "[5 rows x 55 columns]"
      ]
     },
     "execution_count": 48,
     "metadata": {},
     "output_type": "execute_result"
    }
   ],
   "source": [
    "sports_object = pd.read_csv('boiska2.csv', sep=';')\n",
    "sports_object.head()"
   ]
  },
  {
   "cell_type": "code",
   "execution_count": 49,
   "metadata": {},
   "outputs": [
    {
     "data": {
      "text/html": [
       "<div>\n",
       "<style scoped>\n",
       "    .dataframe tbody tr th:only-of-type {\n",
       "        vertical-align: middle;\n",
       "    }\n",
       "\n",
       "    .dataframe tbody tr th {\n",
       "        vertical-align: top;\n",
       "    }\n",
       "\n",
       "    .dataframe thead th {\n",
       "        text-align: right;\n",
       "    }\n",
       "</style>\n",
       "<table border=\"1\" class=\"dataframe\">\n",
       "  <thead>\n",
       "    <tr style=\"text-align: right;\">\n",
       "      <th></th>\n",
       "      <th>Kod</th>\n",
       "      <th>Nazwa</th>\n",
       "      <th>szkoły ponadgimnazjalne zawodowe;2010;[%]</th>\n",
       "      <th>szkoły ponadgimnazjalne zawodowe;2011;[%]</th>\n",
       "      <th>szkoły ponadgimnazjalne zawodowe;2012;[%]</th>\n",
       "      <th>szkoły ponadgimnazjalne zawodowe;2013;[%]</th>\n",
       "      <th>szkoły ponadgimnazjalne zawodowe;2014;[%]</th>\n",
       "      <th>szkoły ponadgimnazjalne zawodowe;2015;[%]</th>\n",
       "      <th>szkoły ponadgimnazjalne zawodowe;2016;[%]</th>\n",
       "      <th>szkoły ponadgimnazjalne zawodowe;2017;[%]</th>\n",
       "      <th>...</th>\n",
       "      <th>licea ogólnokształcące;2013;[%]</th>\n",
       "      <th>licea ogólnokształcące;2014;[%]</th>\n",
       "      <th>licea ogólnokształcące;2015;[%]</th>\n",
       "      <th>licea ogólnokształcące;2016;[%]</th>\n",
       "      <th>licea ogólnokształcące;2017;[%]</th>\n",
       "      <th>licea ogólnokształcące;2018;[%]</th>\n",
       "      <th>licea ogólnokształcące - kobiety;2017;[%]</th>\n",
       "      <th>licea ogólnokształcące - kobiety;2018;[%]</th>\n",
       "      <th>licea ogólnokształcące - mężczyźni;2017;[%]</th>\n",
       "      <th>licea ogólnokształcące - mężczyźni;2018;[%]</th>\n",
       "    </tr>\n",
       "  </thead>\n",
       "  <tbody>\n",
       "    <tr>\n",
       "      <th>0</th>\n",
       "      <td>200000</td>\n",
       "      <td>DOLNOŚLĄSKIE</td>\n",
       "      <td>71,9</td>\n",
       "      <td>70,3</td>\n",
       "      <td>71,9</td>\n",
       "      <td>75,1</td>\n",
       "      <td>65,5</td>\n",
       "      <td>68,2</td>\n",
       "      <td>69,1</td>\n",
       "      <td>68,2</td>\n",
       "      <td>...</td>\n",
       "      <td>90,1</td>\n",
       "      <td>87,1</td>\n",
       "      <td>87,4</td>\n",
       "      <td>87,9</td>\n",
       "      <td>87,6</td>\n",
       "      <td>87,4</td>\n",
       "      <td>86,6</td>\n",
       "      <td>85,9</td>\n",
       "      <td>89,1</td>\n",
       "      <td>89,5</td>\n",
       "    </tr>\n",
       "    <tr>\n",
       "      <th>1</th>\n",
       "      <td>400000</td>\n",
       "      <td>KUJAWSKO-POMORSKIE</td>\n",
       "      <td>76,5</td>\n",
       "      <td>74,6</td>\n",
       "      <td>74,7</td>\n",
       "      <td>80,3</td>\n",
       "      <td>72,7</td>\n",
       "      <td>72,6</td>\n",
       "      <td>76,6</td>\n",
       "      <td>76,8</td>\n",
       "      <td>...</td>\n",
       "      <td>90,7</td>\n",
       "      <td>88,2</td>\n",
       "      <td>86,5</td>\n",
       "      <td>88</td>\n",
       "      <td>87,7</td>\n",
       "      <td>88,8</td>\n",
       "      <td>84,8</td>\n",
       "      <td>90,4</td>\n",
       "      <td>92,3</td>\n",
       "      <td>86</td>\n",
       "    </tr>\n",
       "    <tr>\n",
       "      <th>2</th>\n",
       "      <td>600000</td>\n",
       "      <td>LUBELSKIE</td>\n",
       "      <td>66,9</td>\n",
       "      <td>65,8</td>\n",
       "      <td>70,6</td>\n",
       "      <td>71,8</td>\n",
       "      <td>61,3</td>\n",
       "      <td>66,9</td>\n",
       "      <td>70,9</td>\n",
       "      <td>73,9</td>\n",
       "      <td>...</td>\n",
       "      <td>91,2</td>\n",
       "      <td>88,6</td>\n",
       "      <td>87,9</td>\n",
       "      <td>87,2</td>\n",
       "      <td>87,6</td>\n",
       "      <td>91,4</td>\n",
       "      <td>82,6</td>\n",
       "      <td>86,8</td>\n",
       "      <td>96,3</td>\n",
       "      <td>99,5</td>\n",
       "    </tr>\n",
       "    <tr>\n",
       "      <th>3</th>\n",
       "      <td>800000</td>\n",
       "      <td>LUBUSKIE</td>\n",
       "      <td>75,8</td>\n",
       "      <td>73,9</td>\n",
       "      <td>79,9</td>\n",
       "      <td>82,6</td>\n",
       "      <td>74,9</td>\n",
       "      <td>76,3</td>\n",
       "      <td>78,6</td>\n",
       "      <td>82,5</td>\n",
       "      <td>...</td>\n",
       "      <td>92,2</td>\n",
       "      <td>88,1</td>\n",
       "      <td>88</td>\n",
       "      <td>87,2</td>\n",
       "      <td>88,8</td>\n",
       "      <td>87,6</td>\n",
       "      <td>82,1</td>\n",
       "      <td>86,7</td>\n",
       "      <td>100,2</td>\n",
       "      <td>89</td>\n",
       "    </tr>\n",
       "    <tr>\n",
       "      <th>4</th>\n",
       "      <td>1000000</td>\n",
       "      <td>ŁÓDZKIE</td>\n",
       "      <td>74,3</td>\n",
       "      <td>74,1</td>\n",
       "      <td>73,6</td>\n",
       "      <td>77,4</td>\n",
       "      <td>68,3</td>\n",
       "      <td>70,1</td>\n",
       "      <td>77,3</td>\n",
       "      <td>77,2</td>\n",
       "      <td>...</td>\n",
       "      <td>91,4</td>\n",
       "      <td>86,8</td>\n",
       "      <td>87,4</td>\n",
       "      <td>85,9</td>\n",
       "      <td>89,1</td>\n",
       "      <td>90,3</td>\n",
       "      <td>85,1</td>\n",
       "      <td>91,1</td>\n",
       "      <td>96,1</td>\n",
       "      <td>89,2</td>\n",
       "    </tr>\n",
       "  </tbody>\n",
       "</table>\n",
       "<p>5 rows × 28 columns</p>\n",
       "</div>"
      ],
      "text/plain": [
       "       Kod               Nazwa szkoły ponadgimnazjalne zawodowe;2010;[%]  \\\n",
       "0   200000        DOLNOŚLĄSKIE                                      71,9   \n",
       "1   400000  KUJAWSKO-POMORSKIE                                      76,5   \n",
       "2   600000           LUBELSKIE                                      66,9   \n",
       "3   800000            LUBUSKIE                                      75,8   \n",
       "4  1000000             ŁÓDZKIE                                      74,3   \n",
       "\n",
       "  szkoły ponadgimnazjalne zawodowe;2011;[%]  \\\n",
       "0                                      70,3   \n",
       "1                                      74,6   \n",
       "2                                      65,8   \n",
       "3                                      73,9   \n",
       "4                                      74,1   \n",
       "\n",
       "  szkoły ponadgimnazjalne zawodowe;2012;[%]  \\\n",
       "0                                      71,9   \n",
       "1                                      74,7   \n",
       "2                                      70,6   \n",
       "3                                      79,9   \n",
       "4                                      73,6   \n",
       "\n",
       "  szkoły ponadgimnazjalne zawodowe;2013;[%]  \\\n",
       "0                                      75,1   \n",
       "1                                      80,3   \n",
       "2                                      71,8   \n",
       "3                                      82,6   \n",
       "4                                      77,4   \n",
       "\n",
       "  szkoły ponadgimnazjalne zawodowe;2014;[%]  \\\n",
       "0                                      65,5   \n",
       "1                                      72,7   \n",
       "2                                      61,3   \n",
       "3                                      74,9   \n",
       "4                                      68,3   \n",
       "\n",
       "  szkoły ponadgimnazjalne zawodowe;2015;[%]  \\\n",
       "0                                      68,2   \n",
       "1                                      72,6   \n",
       "2                                      66,9   \n",
       "3                                      76,3   \n",
       "4                                      70,1   \n",
       "\n",
       "  szkoły ponadgimnazjalne zawodowe;2016;[%]  \\\n",
       "0                                      69,1   \n",
       "1                                      76,6   \n",
       "2                                      70,9   \n",
       "3                                      78,6   \n",
       "4                                      77,3   \n",
       "\n",
       "  szkoły ponadgimnazjalne zawodowe;2017;[%]  ...  \\\n",
       "0                                      68,2  ...   \n",
       "1                                      76,8  ...   \n",
       "2                                      73,9  ...   \n",
       "3                                      82,5  ...   \n",
       "4                                      77,2  ...   \n",
       "\n",
       "  licea ogólnokształcące;2013;[%] licea ogólnokształcące;2014;[%]  \\\n",
       "0                            90,1                            87,1   \n",
       "1                            90,7                            88,2   \n",
       "2                            91,2                            88,6   \n",
       "3                            92,2                            88,1   \n",
       "4                            91,4                            86,8   \n",
       "\n",
       "  licea ogólnokształcące;2015;[%] licea ogólnokształcące;2016;[%]  \\\n",
       "0                            87,4                            87,9   \n",
       "1                            86,5                              88   \n",
       "2                            87,9                            87,2   \n",
       "3                              88                            87,2   \n",
       "4                            87,4                            85,9   \n",
       "\n",
       "  licea ogólnokształcące;2017;[%] licea ogólnokształcące;2018;[%]  \\\n",
       "0                            87,6                            87,4   \n",
       "1                            87,7                            88,8   \n",
       "2                            87,6                            91,4   \n",
       "3                            88,8                            87,6   \n",
       "4                            89,1                            90,3   \n",
       "\n",
       "  licea ogólnokształcące - kobiety;2017;[%]  \\\n",
       "0                                      86,6   \n",
       "1                                      84,8   \n",
       "2                                      82,6   \n",
       "3                                      82,1   \n",
       "4                                      85,1   \n",
       "\n",
       "  licea ogólnokształcące - kobiety;2018;[%]  \\\n",
       "0                                      85,9   \n",
       "1                                      90,4   \n",
       "2                                      86,8   \n",
       "3                                      86,7   \n",
       "4                                      91,1   \n",
       "\n",
       "  licea ogólnokształcące - mężczyźni;2017;[%]  \\\n",
       "0                                        89,1   \n",
       "1                                        92,3   \n",
       "2                                        96,3   \n",
       "3                                       100,2   \n",
       "4                                        96,1   \n",
       "\n",
       "  licea ogólnokształcące - mężczyźni;2018;[%]  \n",
       "0                                        89,5  \n",
       "1                                          86  \n",
       "2                                        99,5  \n",
       "3                                          89  \n",
       "4                                        89,2  \n",
       "\n",
       "[5 rows x 28 columns]"
      ]
     },
     "execution_count": 49,
     "metadata": {},
     "output_type": "execute_result"
    }
   ],
   "source": [
    "ponadpodstawowe = pd.read_csv('ponadpodstawowe.csv', sep=';')\n",
    "ponadpodstawowe.head()"
   ]
  },
  {
   "cell_type": "markdown",
   "metadata": {},
   "source": [
    "<h1> Opis danych <h1>\n"
   ]
  },
  {
   "cell_type": "markdown",
   "metadata": {},
   "source": [
    "Kategoria:\tSZKOLNICTWO\n",
    "\tPrzez szkołę rozumie się jednostkę organizacyjną powołaną, na podstawie aktu założycielskiego lub wpisu do ewidencji, przez organ administracji rządowej, jednostkę samorządu terytorialnego, osobę prawną lub osobę fizyczną na mocy przepisów ustawy o systemie oświaty. Szkoła prowadzi kształcenie określonego rodzaju i na określonym poziomie, posiada statut, nadany przez organ lub osobę prowadzącą szkołę, określający m.in. jej nazwę, typ, organ prowadzący oraz organizację wewnętrzną. <br />Szkoły i placówki (w tym przedszkola) mogą być publiczne i niepubliczne. <br />Właściwi ministrowie i jednostki samorządu terytorialnego (gminnego, powiatowego i województwa) mogą zakładać i prowadzić tylko szkoły publiczne. Szkoły podstawowe mogą być tylko publiczne, jeżeli realizują minimum programowe oraz stosują zasady klasyfikowania i promowania uczniów ustalone przez ministra właściwego do spraw oświaty i wychowania, umożliwiające uzyskanie świadectw lub dyplomów państwowych. <br />Obowiązek szkolny spełnia się przez uczęszczanie do szkoły podstawowej.<br />Do szkół dla dorosłych, w których stosuje się odrębną organizację kształcenia, przyjmowane są osoby w wieku 18 lat i więcej (a także kończące 18 lat w roku kalendarzowym, w którym przyjmowane są do szkoły). <br />Od 2014 roku obowiązuje Międzynarodowa Klasyfikacja Kierunków Kształcenia ISCED – F 2013, zgodnie z którą uczniowie i absolwenci szkół zawodowych sklasyfikowani są według podgrup kierunków kształcenia.\n",
    "\n",
    "Grupa:\tZDAWALNOŚĆ EGZAMINÓW\n",
    "\tDane Centralnej Komisji Egzaminacyjnej.\n",
    "\n",
    "Podgrupa:\tZdawalność egzaminów maturalnych\n",
    "\tOd roku 2010 dane bez absolwentów z lat wcześniejszych. Dane dotyczą absolwentów, którzy w terminie głównym (w maju) przystąpili do wszystkich egzaminów obowiązkowych w Nowej Formule.\n",
    "\n",
    "Data ostatniej aktualizacji:\t19.09.2024\n"
   ]
  },
  {
   "cell_type": "markdown",
   "metadata": {},
   "source": [
    "Kategoria:\tKULTURA FIZYCZNA, SPORT I REKREACJA\n",
    "\tDane dotyczące klubów sportowych (łącznie z Uczniowskimi Klubami Sportowymi - UKS oraz klubami wyznaniowymi) i ćwiczących w sekcjach sportowych wg rodzajów sportu - (spr. KFT-1). Osoba ćwicząca w sekcjach sportowych może być wykazana wielokrotnie, jeśli uprawia więcej niż jeden rodzaj sportu.  Dane dotyczące obiektów sportowych (bez obiektów przyszkolnych) zbierane są w kilku etapach. Co 4 lata wszystkie jednostki samorządu terytorialnego (urzędy miast i gmin, urzędy dzielnicowe m.st. Warszawy) przekazują za pomocą zestawu danych KFT-OB/a informacje o obiektach sportowych będących w ich zarządzie. W następnym etapie pozostali właściciele obiektów sportowych, przekazują dane dotyczące własnych obiektów sportowych za pomocą zestawu danych KFT-OB/b. W roku, w którym realizowane jest badanie, kluby sportowe przekazują dodatkowo dane dotyczące obiektów sportowych będących ich własnością za pomocą zestawu danych KFT-1. Stan  w dniu 31 grudnia. Dane dotyczące klubów sportowych za 2020 r. opracowano wykorzystując estymację bezpośrednią z uwzględnieniem imputacji dla jednostek, które odmówiły udziału w badaniu. </br>\n",
    "\n",
    "Grupa:\tSPORT\n",
    "\tKluby sportowe i ćwiczący - od roku 2002 dane zbierane co 2 lata. Obiekty sportowe - dane zbierane co 4 lata. Dane za 2018 r. opracowano w dwóch wersjach: bez wykorzystania metody estymacji bezpośredniej uwzględniającej imputację jednostek, które odmówiły udziału w badaniu (tak, jak za lata wcześniejsze) oraz z zastosowaniem ww. metody.</br>\n",
    "\n",
    "Podgrupa:\tObiekty sportowe\n",
    "\tDane - bez obiektów przyszkolnych.\n",
    "Data ostatniej aktualizacji:\t31.07.2023\n"
   ]
  },
  {
   "cell_type": "code",
   "execution_count": 50,
   "metadata": {},
   "outputs": [
    {
     "data": {
      "image/png": "[encoded data removed]",
      "text/plain": [
       "<Figure size 1200x800 with 2 Axes>"
      ]
     },
     "metadata": {},
     "output_type": "display_data"
    }
   ],
   "source": [
    "# Połączenie danych na podstawie kolumny \"Nazwa\"\n",
    "merged_data = pd.merge(education, sports_object, on='Nazwa', how='outer');\n",
    "\n",
    "\n",
    "# Tworzenie nowych kolumn sumujących liczby obiektów sportowych\n",
    "merged_data['obiekty_2010'] = merged_data[['stadiony;2010;[ob.]', \n",
    "                                           'hale i sale sportowe;2010;[ob.]', \n",
    "                                           'korty tenisowe otwarte i kryte;2010;[ob.]', \n",
    "                                           'pływalnie sportowe otwarte i kryte, aquaparki;2010;[ob.]', \n",
    "                                           'lodowiska sztucznie mrożone niezadaszone oraz kryte;2010;[ob.]']].sum(axis=1)\n",
    "\n",
    "merged_data['obiekty_2014'] = merged_data[['stadiony;2014;[ob.]', \n",
    "                                           'hale i sale sportowe;2014;[ob.]', \n",
    "                                           'korty tenisowe otwarte i kryte;2014;[ob.]', \n",
    "                                           'pływalnie sportowe otwarte i kryte, aquaparki;2014;[ob.]', \n",
    "                                           'lodowiska sztucznie mrożone niezadaszone oraz kryte;2014;[ob.]']].sum(axis=1)\n",
    "\n",
    "merged_data['obiekty_2018'] = merged_data[['stadiony;2018;[ob.]', \n",
    "                                           'hale i sale sportowe;2018;[ob.]', \n",
    "                                           'korty tenisowe otwarte i kryte;2018;[ob.]', \n",
    "                                           'pływalnie sportowe otwarte i kryte, aquaparki;2018;[ob.]', \n",
    "                                           'lodowiska sztucznie mrożone niezadaszone oraz kryte;2018;[ob.]']].sum(axis=1)\n",
    "\n",
    "merged_data['obiekty_2022'] = merged_data[['stadiony;2022;[ob.]', \n",
    "                                           'hale i sale sportowe;2022;[ob.]', \n",
    "                                           'korty tenisowe otwarte i kryte;2022;[ob.]', \n",
    "                                           'pływalnie sportowe otwarte i kryte, aquaparki;2022;[ob.]', \n",
    "                                           'lodowiska sztucznie mrożone niezadaszone oraz kryte;2022;[ob.]']].sum(axis=1)\n",
    "\n",
    "\n",
    "# Przygotowanie danych\n",
    "columns_to_convert = ['2010[%]', '2014[%]', '2018[%]', '2022[%]']\n",
    "for col in columns_to_convert:\n",
    "    merged_data[col] = merged_data[col].astype(str).str.replace(',', '.').astype(float)\n",
    "\n",
    "matura_data = merged_data[['Nazwa', '2010[%]', '2014[%]', '2018[%]', '2022[%]']].melt(\n",
    "    id_vars=['Nazwa'], \n",
    "    var_name='Rok', \n",
    "    value_name='Zdawalność matur [%]'\n",
    ")\n",
    "\n",
    "# Wyodrębnienie samego roku jako liczby\n",
    "matura_data['Rok'] = matura_data['Rok'].str.extract(r'(\\d+)').astype(int)\n",
    "\n",
    "# Tworzenie tabeli przestawnej dla mapy cieplnej\n",
    "heatmap_data = matura_data.pivot_table(\n",
    "    index='Nazwa', \n",
    "    columns='Rok', \n",
    "    values='Zdawalność matur [%]'\n",
    ")\n",
    "\n",
    "# Tworzenie mapy cieplnej\n",
    "plt.figure(figsize=(12, 8))\n",
    "sns.heatmap(\n",
    "    heatmap_data, \n",
    "    annot=True, \n",
    "    fmt='.1f', \n",
    "    cmap='coolwarm', \n",
    "    cbar_kws={'label': 'Zdawalność matur [%]'}\n",
    ")\n",
    "\n",
    "# Dodanie tytułu i etykiet\n",
    "plt.title('Zdawalność matur w województwach (2010-2022)', fontsize=16)\n",
    "plt.xlabel('Rok', fontsize=14)\n",
    "plt.ylabel('Województwo', fontsize=14)\n",
    "plt.tight_layout()\n",
    "plt.show()\n",
    "\n",
    "\n",
    "\n",
    "\n",
    "\n"
   ]
  },
  {
   "cell_type": "code",
   "execution_count": 51,
   "metadata": {},
   "outputs": [
    {
     "data": {
      "image/png": "[encoded data removed]",
      "text/plain": [
       "<Figure size 1400x800 with 1 Axes>"
      ]
     },
     "metadata": {},
     "output_type": "display_data"
    }
   ],
   "source": [
    "bar_data = merged_data[['Nazwa', 'obiekty_2010', 'obiekty_2014', 'obiekty_2018', 'obiekty_2022']].melt(\n",
    "    id_vars=['Nazwa'], \n",
    "    var_name='Rok', \n",
    "    value_name='Liczba obiektów sportowych'\n",
    ")\n",
    "\n",
    "plt.figure(figsize=(14, 8))\n",
    "sns.barplot(\n",
    "    data=bar_data, \n",
    "    x='Nazwa', \n",
    "    y='Liczba obiektów sportowych', \n",
    "    hue='Rok', \n",
    "    palette='coolwarm'\n",
    ")\n",
    "plt.title('Porównanie liczby obiektów sportowych w latach 2010-2022')\n",
    "plt.xlabel('Województwo')\n",
    "plt.ylabel('Liczba obiektów sportowych')\n",
    "plt.xticks(rotation=45, ha='right')\n",
    "plt.legend(title='Rok', bbox_to_anchor=(1.05, 1), loc='upper left')\n",
    "plt.tight_layout()\n",
    "plt.show()\n"
   ]
  },
  {
   "cell_type": "code",
   "execution_count": 52,
   "metadata": {},
   "outputs": [
    {
     "data": {
      "image/png": "[encoded data removed]",
      "text/plain": [
       "<Figure size 1800x800 with 4 Axes>"
      ]
     },
     "metadata": {},
     "output_type": "display_data"
    }
   ],
   "source": [
    "heatmap_data_combined = pd.DataFrame({\n",
    "    'Nazwa': merged_data['Nazwa'].tolist() * 4, \n",
    "    'Rok': [2018] * len(merged_data) + [2022] * len(merged_data) + [2018] * len(merged_data) + [2022] * len(merged_data),\n",
    "    'Kategoria': ['Zdawalność'] * (2 * len(merged_data)) + ['Liczba obiektów'] * (2 * len(merged_data)),\n",
    "    'Wartość': (\n",
    "        merged_data['2018[%]'].tolist() +\n",
    "        merged_data['2022[%]'].tolist() +\n",
    "        merged_data['obiekty_2018'].tolist() +\n",
    "        merged_data['obiekty_2022'].tolist()\n",
    "    )\n",
    "})\n",
    "\n",
    "\n",
    "heatmap_zdawalnosc = heatmap_data_combined[heatmap_data_combined['Kategoria'] == 'Zdawalność'].pivot_table(\n",
    "    index='Nazwa',\n",
    "    columns='Rok',\n",
    "    values='Wartość'\n",
    ")\n",
    "\n",
    "heatmap_obiekty = heatmap_data_combined[heatmap_data_combined['Kategoria'] == 'Liczba obiektów'].pivot_table(\n",
    "    index='Nazwa',\n",
    "    columns='Rok',\n",
    "    values='Wartość'\n",
    ")\n",
    "\n",
    "fig, axes = plt.subplots(1, 2, figsize=(18, 8), sharey=True)\n",
    "\n",
    "sns.heatmap(\n",
    "    heatmap_zdawalnosc,\n",
    "    cmap='YlGnBu', \n",
    "    annot=True,\n",
    "    fmt='.1f',\n",
    "    ax=axes[0],\n",
    "    cbar_kws={'label': 'Zdawalność matur [%]'}\n",
    ")\n",
    "axes[0].set_title('Zdawalność matur (2018 i 2022) %', fontsize=14)\n",
    "axes[0].set_xlabel('Rok', fontsize=12)\n",
    "axes[0].set_ylabel('Województwo', fontsize=12)\n",
    "\n",
    "sns.heatmap(\n",
    "    heatmap_obiekty,\n",
    "    cmap='PuBu',\n",
    "    annot=True,\n",
    "    fmt='.0f',\n",
    "    ax=axes[1],\n",
    "    cbar_kws={'label': 'Liczba obiektów sportowych'}\n",
    ")\n",
    "axes[1].set_title('Liczba obiektów sportowych (2018 i 2022)', fontsize=12)\n",
    "axes[1].set_xlabel('Rok', fontsize=10)\n",
    "\n",
    "plt.tight_layout(rect=[0, 0, 1, 1.05])\n",
    "plt.show()\n",
    "\n",
    "\n",
    "\n",
    "\n"
   ]
  },
  {
   "cell_type": "code",
   "execution_count": 53,
   "metadata": {},
   "outputs": [
    {
     "data": {
      "image/png": "[encoded data removed]",
      "text/plain": [
       "<Figure size 2400x1000 with 2 Axes>"
      ]
     },
     "metadata": {},
     "output_type": "display_data"
    }
   ],
   "source": [
    "width = 0.4\n",
    "\n",
    "# Posortowanie danych według liczby obiektów sportowych w 2018 roku malejąco\n",
    "merged_data_sorted = merged_data.sort_values(by='obiekty_2018', ascending=False)\n",
    "\n",
    "# Przygotowanie danych do wykresu\n",
    "x = merged_data_sorted['Nazwa']\n",
    "z1 = merged_data_sorted['obiekty_2014']\n",
    "z2 = merged_data_sorted['obiekty_2018']\n",
    "y1 = merged_data_sorted['2014[%]']\n",
    "y2 = merged_data_sorted['2018[%]']\n",
    "\n",
    "# Tworzenie wykresu z posortowanymi danymi\n",
    "fig, ax1 = plt.subplots(figsize=(24, 10))\n",
    "\n",
    "# Wykres słupkowy dla liczby obiektów sportowych\n",
    "bars1 = ax1.bar(x, z1, width, label='Obiekty sportowe 2014', color='deepskyblue', align='edge', alpha=0.8)\n",
    "bars2 = ax1.bar(x, z2, width, label='Obiekty sportowe 2018', color='royalblue', align='center', alpha=0.8)\n",
    "ax1.set_ylabel('Liczba obiektów sportowych', fontsize=16, color='blue')\n",
    "ax1.tick_params(axis='y', labelcolor='blue', labelsize=14)\n",
    "\n",
    "# Wyświetlanie co drugiej etykiety na osi X\n",
    "ax1.set_xticks(range(len(x)))\n",
    "ax1.set_xticklabels(x, rotation=90, ha='center', fontsize=12)\n",
    "\n",
    "# Zmiana skali osi Y dla liczby obiektów sportowych\n",
    "ax1.set_yticks(range(0, int(max(z1.max(), z2.max())) + 150, 150))\n",
    "ax1.grid(axis='y', linestyle='--', alpha=0.6)\n",
    "\n",
    "# Dodanie wartości nad słupkami\n",
    "for bar in bars1:\n",
    "    ax1.text(bar.get_x() + bar.get_width() / 2, bar.get_height() + 15, f'{int(bar.get_height())}', \n",
    "             ha='center', va='bottom', fontsize=12, color='blue')\n",
    "for bar in bars2:\n",
    "    ax1.text(bar.get_x() + bar.get_width() / 2, bar.get_height() + 15, f'{int(bar.get_height())}', \n",
    "             ha='center', va='bottom', fontsize=12, color='darkblue')\n",
    "\n",
    "# Wykres liniowy dla zdawalności matur\n",
    "ax2 = ax1.twinx()\n",
    "line1, = ax2.plot(x, y1, label='Zdawalność matur 2014 [%]', color='orange', marker='o', linewidth=2)\n",
    "line2, = ax2.plot(x, y2, label='Zdawalność matur 2018 [%]', color='red', marker='s', linewidth=2)\n",
    "ax2.set_ylabel('Zdawalność matur [%]', fontsize=16, color='orange')\n",
    "ax2.tick_params(axis='y', labelcolor='orange', labelsize=14)\n",
    "\n",
    "# Zmiana skali osi Y dla zdawalności matur\n",
    "ax2.set_yticks(range(60, 86, 5))\n",
    "\n",
    "# Dodanie wartości na liniach\n",
    "for i, value in enumerate(y1):\n",
    "    if i % 3 == 0:\n",
    "        ax2.text(i, value + 0.5, f'{value:.1f}', ha='center', va='bottom', fontsize=12, color='orange')\n",
    "for i, value in enumerate(y2):\n",
    "    if i % 3 == 0:\n",
    "        ax2.text(i, value + 0.5, f'{value:.1f}', ha='center', va='top', fontsize=12, color='red')\n",
    "\n",
    "# Dodanie legendy\n",
    "fig.legend(loc='lower left', bbox_to_anchor=(0.05, 1), fontsize=14)\n",
    "\n",
    "# Tytuł wykresu\n",
    "plt.title('Porównanie liczby obiektów sportowych i zdawalności matur (2014 vs 2018)', fontsize=20)\n",
    "\n",
    "# Dodanie podpisu osi X\n",
    "ax1.set_xlabel('Województwo', fontsize=16)\n",
    "\n",
    "# Dostosowanie układu\n",
    "plt.tight_layout()\n",
    "\n",
    "# Wyświetlenie wykresu\n",
    "plt.show()\n"
   ]
  },
  {
   "cell_type": "code",
   "execution_count": 124,
   "metadata": {},
   "outputs": [
    {
     "data": {
      "application/vnd.plotly.v1+json": {
       "config": {
        "plotlyServerURL": "https://plot.ly"
       },
       "data": [
        {
         "customdata": [
          [
           82,
           71.7,
           51.1,
           16.9
          ],
          [
           83,
           79.1,
           53,
           18
          ],
          [
           80,
           71.9,
           51.2,
           22.5
          ],
          [
           82,
           68.8,
           52.4,
           15.5
          ],
          [
           82,
           83.6,
           52.2,
           21
          ],
          [
           83,
           76.7,
           49.9,
           20
          ],
          [
           82,
           69.6,
           50.7,
           17.9
          ],
          [
           81,
           67.1,
           50,
           22
          ],
          [
           81,
           75.1,
           53.1,
           22.9
          ],
          [
           82,
           73.2,
           54.3,
           17.6
          ],
          [
           80,
           71.4,
           53.8,
           20.5
          ],
          [
           81,
           73.3,
           52.5,
           16.9
          ],
          [
           80,
           67.6,
           53.4,
           15.6
          ],
          [
           82,
           78.7,
           51.8,
           19.5
          ],
          [
           82,
           83.5,
           50.3,
           19
          ],
          [
           80,
           74.6,
           50.9,
           20.6
          ]
         ],
         "hovertemplate": "<b>%{hovertext}</b><br><br>rok=2010<br>zdawalnosc_scaled=%{marker.size}<br>zdawalnosc=%{customdata[0]}<br>wykorzystanie=%{marker.color}<extra></extra>",
         "hovertext": [
          "DOLNOŚLĄSKIE",
          "KUJAWSKO-POMORSKIE",
          "LUBELSKIE",
          "LUBUSKIE",
          "MAZOWIECKIE",
          "MAŁOPOLSKIE",
          "OPOLSKIE",
          "PODKARPACKIE",
          "PODLASKIE",
          "POMORSKIE",
          "WARMIŃSKO-MAZURSKIE",
          "WIELKOPOLSKIE",
          "ZACHODNIOPOMORSKIE",
          "ŁÓDZKIE",
          "ŚLĄSKIE",
          "ŚWIĘTOKRZYSKIE"
         ],
         "lat": [
          51.1,
          53,
          51.2,
          52.4,
          52.2,
          49.9,
          50.7,
          50,
          53.1,
          54.3,
          53.8,
          52.5,
          53.4,
          51.8,
          50.3,
          50.9
         ],
         "legendgroup": "",
         "lon": [
          16.9,
          18,
          22.5,
          15.5,
          21,
          20,
          17.9,
          22,
          22.9,
          17.6,
          20.5,
          16.9,
          15.6,
          19.5,
          19,
          20.6
         ],
         "marker": {
          "color": [
           71.7,
           79.1,
           71.9,
           68.8,
           83.6,
           76.7,
           69.6,
           67.1,
           75.1,
           73.2,
           71.4,
           73.3,
           67.6,
           78.7,
           83.5,
           74.6
          ],
          "coloraxis": "coloraxis",
          "size": [
           410,
           415,
           400,
           410,
           410,
           415,
           410,
           405,
           405,
           410,
           400,
           405,
           400,
           410,
           410,
           400
          ],
          "sizemode": "area",
          "sizeref": 0.4622222222222222
         },
         "mode": "markers",
         "name": "",
         "showlegend": false,
         "subplot": "mapbox",
         "type": "scattermapbox"
        }
       ],
       "frames": [
        {
         "data": [
          {
           "customdata": [
            [
             82,
             71.7,
             51.1,
             16.9
            ],
            [
             83,
             79.1,
             53,
             18
            ],
            [
             80,
             71.9,
             51.2,
             22.5
            ],
            [
             82,
             68.8,
             52.4,
             15.5
            ],
            [
             82,
             83.6,
             52.2,
             21
            ],
            [
             83,
             76.7,
             49.9,
             20
            ],
            [
             82,
             69.6,
             50.7,
             17.9
            ],
            [
             81,
             67.1,
             50,
             22
            ],
            [
             81,
             75.1,
             53.1,
             22.9
            ],
            [
             82,
             73.2,
             54.3,
             17.6
            ],
            [
             80,
             71.4,
             53.8,
             20.5
            ],
            [
             81,
             73.3,
             52.5,
             16.9
            ],
            [
             80,
             67.6,
             53.4,
             15.6
            ],
            [
             82,
             78.7,
             51.8,
             19.5
            ],
            [
             82,
             83.5,
             50.3,
             19
            ],
            [
             80,
             74.6,
             50.9,
             20.6
            ]
           ],
           "hovertemplate": "<b>%{hovertext}</b><br><br>rok=2010<br>zdawalnosc_scaled=%{marker.size}<br>zdawalnosc=%{customdata[0]}<br>wykorzystanie=%{marker.color}<extra></extra>",
           "hovertext": [
            "DOLNOŚLĄSKIE",
            "KUJAWSKO-POMORSKIE",
            "LUBELSKIE",
            "LUBUSKIE",
            "MAZOWIECKIE",
            "MAŁOPOLSKIE",
            "OPOLSKIE",
            "PODKARPACKIE",
            "PODLASKIE",
            "POMORSKIE",
            "WARMIŃSKO-MAZURSKIE",
            "WIELKOPOLSKIE",
            "ZACHODNIOPOMORSKIE",
            "ŁÓDZKIE",
            "ŚLĄSKIE",
            "ŚWIĘTOKRZYSKIE"
           ],
           "lat": [
            51.1,
            53,
            51.2,
            52.4,
            52.2,
            49.9,
            50.7,
            50,
            53.1,
            54.3,
            53.8,
            52.5,
            53.4,
            51.8,
            50.3,
            50.9
           ],
           "legendgroup": "",
           "lon": [
            16.9,
            18,
            22.5,
            15.5,
            21,
            20,
            17.9,
            22,
            22.9,
            17.6,
            20.5,
            16.9,
            15.6,
            19.5,
            19,
            20.6
           ],
           "marker": {
            "color": [
             71.7,
             79.1,
             71.9,
             68.8,
             83.6,
             76.7,
             69.6,
             67.1,
             75.1,
             73.2,
             71.4,
             73.3,
             67.6,
             78.7,
             83.5,
             74.6
            ],
            "coloraxis": "coloraxis",
            "size": [
             410,
             415,
             400,
             410,
             410,
             415,
             410,
             405,
             405,
             410,
             400,
             405,
             400,
             410,
             410,
             400
            ],
            "sizemode": "area",
            "sizeref": 0.4622222222222222
           },
           "mode": "markers",
           "name": "",
           "showlegend": false,
           "subplot": "mapbox",
           "type": "scattermapbox"
          }
         ],
         "name": "2010"
        },
        {
         "data": [
          {
           "customdata": [
            [
             69,
             75.8,
             51.1,
             16.9
            ],
            [
             71,
             83.9,
             53,
             18
            ],
            [
             70,
             71.6,
             51.2,
             22.5
            ],
            [
             74,
             69.8,
             52.4,
             15.5
            ],
            [
             71,
             84.6,
             52.2,
             21
            ],
            [
             73,
             83.4,
             49.9,
             20
            ],
            [
             70,
             72.8,
             50.7,
             17.9
            ],
            [
             71,
             72.2,
             50,
             22
            ],
            [
             73,
             78.4,
             53.1,
             22.9
            ],
            [
             71,
             78.3,
             54.3,
             17.6
            ],
            [
             68,
             74.6,
             53.8,
             20.5
            ],
            [
             70,
             74.6,
             52.5,
             16.9
            ],
            [
             67,
             76.2,
             53.4,
             15.6
            ],
            [
             71,
             79.3,
             51.8,
             19.5
            ],
            [
             71,
             84.7,
             50.3,
             19
            ],
            [
             71,
             77.4,
             50.9,
             20.6
            ]
           ],
           "hovertemplate": "<b>%{hovertext}</b><br><br>rok=2014<br>zdawalnosc_scaled=%{marker.size}<br>zdawalnosc=%{customdata[0]}<br>wykorzystanie=%{marker.color}<extra></extra>",
           "hovertext": [
            "DOLNOŚLĄSKIE",
            "KUJAWSKO-POMORSKIE",
            "LUBELSKIE",
            "LUBUSKIE",
            "MAZOWIECKIE",
            "MAŁOPOLSKIE",
            "OPOLSKIE",
            "PODKARPACKIE",
            "PODLASKIE",
            "POMORSKIE",
            "WARMIŃSKO-MAZURSKIE",
            "WIELKOPOLSKIE",
            "ZACHODNIOPOMORSKIE",
            "ŁÓDZKIE",
            "ŚLĄSKIE",
            "ŚWIĘTOKRZYSKIE"
           ],
           "lat": [
            51.1,
            53,
            51.2,
            52.4,
            52.2,
            49.9,
            50.7,
            50,
            53.1,
            54.3,
            53.8,
            52.5,
            53.4,
            51.8,
            50.3,
            50.9
           ],
           "legendgroup": "",
           "lon": [
            16.9,
            18,
            22.5,
            15.5,
            21,
            20,
            17.9,
            22,
            22.9,
            17.6,
            20.5,
            16.9,
            15.6,
            19.5,
            19,
            20.6
           ],
           "marker": {
            "color": [
             75.8,
             83.9,
             71.6,
             69.8,
             84.6,
             83.4,
             72.8,
             72.2,
             78.4,
             78.3,
             74.6,
             74.6,
             76.2,
             79.3,
             84.7,
             77.4
            ],
            "coloraxis": "coloraxis",
            "size": [
             345,
             355,
             350,
             370,
             355,
             365,
             350,
             355,
             365,
             355,
             340,
             350,
             335,
             355,
             355,
             355
            ],
            "sizemode": "area",
            "sizeref": 0.4622222222222222
           },
           "mode": "markers",
           "name": "",
           "showlegend": false,
           "subplot": "mapbox",
           "type": "scattermapbox"
          }
         ],
         "name": "2014"
        },
        {
         "data": [
          {
           "customdata": [
            [
             77.1,
             77.2,
             51.1,
             16.9
            ],
            [
             78.2,
             85.3,
             53,
             18
            ],
            [
             79.3,
             76.1,
             51.2,
             22.5
            ],
            [
             79.7,
             76.6,
             52.4,
             15.5
            ],
            [
             81.2,
             87.6,
             52.2,
             21
            ],
            [
             83.2,
             86.5,
             49.9,
             20
            ],
            [
             78.4,
             76.4,
             50.7,
             17.9
            ],
            [
             80.6,
             74,
             50,
             22
            ],
            [
             81.2,
             76.9,
             53.1,
             22.9
            ],
            [
             77.4,
             83.1,
             54.3,
             17.6
            ],
            [
             77.4,
             80.8,
             53.8,
             20.5
            ],
            [
             79.3,
             81.9,
             52.5,
             16.9
            ],
            [
             76.8,
             80.3,
             53.4,
             15.6
            ],
            [
             79.3,
             83.3,
             51.8,
             19.5
            ],
            [
             79.2,
             87,
             50.3,
             19
            ],
            [
             80,
             79.3,
             50.9,
             20.6
            ]
           ],
           "hovertemplate": "<b>%{hovertext}</b><br><br>rok=2018<br>zdawalnosc_scaled=%{marker.size}<br>zdawalnosc=%{customdata[0]}<br>wykorzystanie=%{marker.color}<extra></extra>",
           "hovertext": [
            "DOLNOŚLĄSKIE",
            "KUJAWSKO-POMORSKIE",
            "LUBELSKIE",
            "LUBUSKIE",
            "MAZOWIECKIE",
            "MAŁOPOLSKIE",
            "OPOLSKIE",
            "PODKARPACKIE",
            "PODLASKIE",
            "POMORSKIE",
            "WARMIŃSKO-MAZURSKIE",
            "WIELKOPOLSKIE",
            "ZACHODNIOPOMORSKIE",
            "ŁÓDZKIE",
            "ŚLĄSKIE",
            "ŚWIĘTOKRZYSKIE"
           ],
           "lat": [
            51.1,
            53,
            51.2,
            52.4,
            52.2,
            49.9,
            50.7,
            50,
            53.1,
            54.3,
            53.8,
            52.5,
            53.4,
            51.8,
            50.3,
            50.9
           ],
           "legendgroup": "",
           "lon": [
            16.9,
            18,
            22.5,
            15.5,
            21,
            20,
            17.9,
            22,
            22.9,
            17.6,
            20.5,
            16.9,
            15.6,
            19.5,
            19,
            20.6
           ],
           "marker": {
            "color": [
             77.2,
             85.3,
             76.1,
             76.6,
             87.6,
             86.5,
             76.4,
             74,
             76.9,
             83.1,
             80.8,
             81.9,
             80.3,
             83.3,
             87,
             79.3
            ],
            "coloraxis": "coloraxis",
            "size": [
             385.5,
             391,
             396.5,
             398.5,
             406,
             416,
             392,
             403,
             406,
             387,
             387,
             396.5,
             384,
             396.5,
             396,
             400
            ],
            "sizemode": "area",
            "sizeref": 0.4622222222222222
           },
           "mode": "markers",
           "name": "",
           "showlegend": false,
           "subplot": "mapbox",
           "type": "scattermapbox"
          }
         ],
         "name": "2018"
        },
        {
         "data": [
          {
           "customdata": [
            [
             74.8,
             87.2,
             51.1,
             16.9
            ],
            [
             76.1,
             88.8,
             53,
             18
            ],
            [
             77.1,
             86.3,
             51.2,
             22.5
            ],
            [
             77.2,
             85.7,
             52.4,
             15.5
            ],
            [
             81.8,
             93.2,
             52.2,
             21
            ],
            [
             82.1,
             88.8,
             49.9,
             20
            ],
            [
             76.5,
             84.6,
             50.7,
             17.9
            ],
            [
             78.8,
             82.2,
             50,
             22
            ],
            [
             76.2,
             85.7,
             53.1,
             22.9
            ],
            [
             76.3,
             89.7,
             54.3,
             17.6
            ],
            [
             75.6,
             86.5,
             53.8,
             20.5
            ],
            [
             77.8,
             88.4,
             52.5,
             16.9
            ],
            [
             75.7,
             88.1,
             53.4,
             15.6
            ],
            [
             77,
             88.6,
             51.8,
             19.5
            ],
            [
             77.7,
             91.4,
             50.3,
             19
            ],
            [
             77.9,
             86.6,
             50.9,
             20.6
            ]
           ],
           "hovertemplate": "<b>%{hovertext}</b><br><br>rok=2022<br>zdawalnosc_scaled=%{marker.size}<br>zdawalnosc=%{customdata[0]}<br>wykorzystanie=%{marker.color}<extra></extra>",
           "hovertext": [
            "DOLNOŚLĄSKIE",
            "KUJAWSKO-POMORSKIE",
            "LUBELSKIE",
            "LUBUSKIE",
            "MAZOWIECKIE",
            "MAŁOPOLSKIE",
            "OPOLSKIE",
            "PODKARPACKIE",
            "PODLASKIE",
            "POMORSKIE",
            "WARMIŃSKO-MAZURSKIE",
            "WIELKOPOLSKIE",
            "ZACHODNIOPOMORSKIE",
            "ŁÓDZKIE",
            "ŚLĄSKIE",
            "ŚWIĘTOKRZYSKIE"
           ],
           "lat": [
            51.1,
            53,
            51.2,
            52.4,
            52.2,
            49.9,
            50.7,
            50,
            53.1,
            54.3,
            53.8,
            52.5,
            53.4,
            51.8,
            50.3,
            50.9
           ],
           "legendgroup": "",
           "lon": [
            16.9,
            18,
            22.5,
            15.5,
            21,
            20,
            17.9,
            22,
            22.9,
            17.6,
            20.5,
            16.9,
            15.6,
            19.5,
            19,
            20.6
           ],
           "marker": {
            "color": [
             87.2,
             88.8,
             86.3,
             85.7,
             93.2,
             88.8,
             84.6,
             82.2,
             85.7,
             89.7,
             86.5,
             88.4,
             88.1,
             88.6,
             91.4,
             86.6
            ],
            "coloraxis": "coloraxis",
            "size": [
             374,
             380.5,
             385.5,
             386,
             409,
             410.5,
             382.5,
             394,
             381,
             381.5,
             378,
             389,
             378.5,
             385,
             388.5,
             389.5
            ],
            "sizemode": "area",
            "sizeref": 0.4622222222222222
           },
           "mode": "markers",
           "name": "",
           "showlegend": false,
           "subplot": "mapbox",
           "type": "scattermapbox"
          }
         ],
         "name": "2022"
        }
       ],
       "layout": {
        "coloraxis": {
         "cmax": 100,
         "cmin": 70,
         "colorbar": {
          "title": {
           "text": "wykorzystanie"
          }
         },
         "colorscale": [
          [
           0,
           "#440154"
          ],
          [
           0.1111111111111111,
           "#482878"
          ],
          [
           0.2222222222222222,
           "#3e4989"
          ],
          [
           0.3333333333333333,
           "#31688e"
          ],
          [
           0.4444444444444444,
           "#26828e"
          ],
          [
           0.5555555555555556,
           "#1f9e89"
          ],
          [
           0.6666666666666666,
           "#35b779"
          ],
          [
           0.7777777777777778,
           "#6ece58"
          ],
          [
           0.8888888888888888,
           "#b5de2b"
          ],
          [
           1,
           "#fde725"
          ]
         ]
        },
        "height": 800,
        "legend": {
         "itemsizing": "constant",
         "tracegroupgap": 0
        },
        "mapbox": {
         "center": {
          "lat": 51.912499999999994,
          "lon": 19.15
         },
         "domain": {
          "x": [
           0,
           1
          ],
          "y": [
           0,
           1
          ]
         },
         "style": "carto-positron",
         "zoom": 5
        },
        "margin": {
         "b": 10,
         "l": 10,
         "r": 10,
         "t": 50
        },
        "sliders": [
         {
          "active": 0,
          "currentvalue": {
           "prefix": "rok="
          },
          "len": 0.9,
          "pad": {
           "b": 10,
           "t": 60
          },
          "steps": [
           {
            "args": [
             [
              "2010"
             ],
             {
              "frame": {
               "duration": 0,
               "redraw": true
              },
              "fromcurrent": true,
              "mode": "immediate",
              "transition": {
               "duration": 0,
               "easing": "linear"
              }
             }
            ],
            "label": "2010",
            "method": "animate"
           },
           {
            "args": [
             [
              "2014"
             ],
             {
              "frame": {
               "duration": 0,
               "redraw": true
              },
              "fromcurrent": true,
              "mode": "immediate",
              "transition": {
               "duration": 0,
               "easing": "linear"
              }
             }
            ],
            "label": "2014",
            "method": "animate"
           },
           {
            "args": [
             [
              "2018"
             ],
             {
              "frame": {
               "duration": 0,
               "redraw": true
              },
              "fromcurrent": true,
              "mode": "immediate",
              "transition": {
               "duration": 0,
               "easing": "linear"
              }
             }
            ],
            "label": "2018",
            "method": "animate"
           },
           {
            "args": [
             [
              "2022"
             ],
             {
              "frame": {
               "duration": 0,
               "redraw": true
              },
              "fromcurrent": true,
              "mode": "immediate",
              "transition": {
               "duration": 0,
               "easing": "linear"
              }
             }
            ],
            "label": "2022",
            "method": "animate"
           }
          ],
          "x": 0.1,
          "xanchor": "left",
          "y": 0,
          "yanchor": "top"
         }
        ],
        "template": {
         "data": {
          "bar": [
           {
            "error_x": {
             "color": "#2a3f5f"
            },
            "error_y": {
             "color": "#2a3f5f"
            },
            "marker": {
             "line": {
              "color": "#E5ECF6",
              "width": 0.5
             },
             "pattern": {
              "fillmode": "overlay",
              "size": 10,
              "solidity": 0.2
             }
            },
            "type": "bar"
           }
          ],
          "barpolar": [
           {
            "marker": {
             "line": {
              "color": "#E5ECF6",
              "width": 0.5
             },
             "pattern": {
              "fillmode": "overlay",
              "size": 10,
              "solidity": 0.2
             }
            },
            "type": "barpolar"
           }
          ],
          "carpet": [
           {
            "aaxis": {
             "endlinecolor": "#2a3f5f",
             "gridcolor": "white",
             "linecolor": "white",
             "minorgridcolor": "white",
             "startlinecolor": "#2a3f5f"
            },
            "baxis": {
             "endlinecolor": "#2a3f5f",
             "gridcolor": "white",
             "linecolor": "white",
             "minorgridcolor": "white",
             "startlinecolor": "#2a3f5f"
            },
            "type": "carpet"
           }
          ],
          "choropleth": [
           {
            "colorbar": {
             "outlinewidth": 0,
             "ticks": ""
            },
            "type": "choropleth"
           }
          ],
          "contour": [
           {
            "colorbar": {
             "outlinewidth": 0,
             "ticks": ""
            },
            "colorscale": [
             [
              0,
              "#0d0887"
             ],
             [
              0.1111111111111111,
              "#46039f"
             ],
             [
              0.2222222222222222,
              "#7201a8"
             ],
             [
              0.3333333333333333,
              "#9c179e"
             ],
             [
              0.4444444444444444,
              "#bd3786"
             ],
             [
              0.5555555555555556,
              "#d8576b"
             ],
             [
              0.6666666666666666,
              "#ed7953"
             ],
             [
              0.7777777777777778,
              "#fb9f3a"
             ],
             [
              0.8888888888888888,
              "#fdca26"
             ],
             [
              1,
              "#f0f921"
             ]
            ],
            "type": "contour"
           }
          ],
          "contourcarpet": [
           {
            "colorbar": {
             "outlinewidth": 0,
             "ticks": ""
            },
            "type": "contourcarpet"
           }
          ],
          "heatmap": [
           {
            "colorbar": {
             "outlinewidth": 0,
             "ticks": ""
            },
            "colorscale": [
             [
              0,
              "#0d0887"
             ],
             [
              0.1111111111111111,
              "#46039f"
             ],
             [
              0.2222222222222222,
              "#7201a8"
             ],
             [
              0.3333333333333333,
              "#9c179e"
             ],
             [
              0.4444444444444444,
              "#bd3786"
             ],
             [
              0.5555555555555556,
              "#d8576b"
             ],
             [
              0.6666666666666666,
              "#ed7953"
             ],
             [
              0.7777777777777778,
              "#fb9f3a"
             ],
             [
              0.8888888888888888,
              "#fdca26"
             ],
             [
              1,
              "#f0f921"
             ]
            ],
            "type": "heatmap"
           }
          ],
          "heatmapgl": [
           {
            "colorbar": {
             "outlinewidth": 0,
             "ticks": ""
            },
            "colorscale": [
             [
              0,
              "#0d0887"
             ],
             [
              0.1111111111111111,
              "#46039f"
             ],
             [
              0.2222222222222222,
              "#7201a8"
             ],
             [
              0.3333333333333333,
              "#9c179e"
             ],
             [
              0.4444444444444444,
              "#bd3786"
             ],
             [
              0.5555555555555556,
              "#d8576b"
             ],
             [
              0.6666666666666666,
              "#ed7953"
             ],
             [
              0.7777777777777778,
              "#fb9f3a"
             ],
             [
              0.8888888888888888,
              "#fdca26"
             ],
             [
              1,
              "#f0f921"
             ]
            ],
            "type": "heatmapgl"
           }
          ],
          "histogram": [
           {
            "marker": {
             "pattern": {
              "fillmode": "overlay",
              "size": 10,
              "solidity": 0.2
             }
            },
            "type": "histogram"
           }
          ],
          "histogram2d": [
           {
            "colorbar": {
             "outlinewidth": 0,
             "ticks": ""
            },
            "colorscale": [
             [
              0,
              "#0d0887"
             ],
             [
              0.1111111111111111,
              "#46039f"
             ],
             [
              0.2222222222222222,
              "#7201a8"
             ],
             [
              0.3333333333333333,
              "#9c179e"
             ],
             [
              0.4444444444444444,
              "#bd3786"
             ],
             [
              0.5555555555555556,
              "#d8576b"
             ],
             [
              0.6666666666666666,
              "#ed7953"
             ],
             [
              0.7777777777777778,
              "#fb9f3a"
             ],
             [
              0.8888888888888888,
              "#fdca26"
             ],
             [
              1,
              "#f0f921"
             ]
            ],
            "type": "histogram2d"
           }
          ],
          "histogram2dcontour": [
           {
            "colorbar": {
             "outlinewidth": 0,
             "ticks": ""
            },
            "colorscale": [
             [
              0,
              "#0d0887"
             ],
             [
              0.1111111111111111,
              "#46039f"
             ],
             [
              0.2222222222222222,
              "#7201a8"
             ],
             [
              0.3333333333333333,
              "#9c179e"
             ],
             [
              0.4444444444444444,
              "#bd3786"
             ],
             [
              0.5555555555555556,
              "#d8576b"
             ],
             [
              0.6666666666666666,
              "#ed7953"
             ],
             [
              0.7777777777777778,
              "#fb9f3a"
             ],
             [
              0.8888888888888888,
              "#fdca26"
             ],
             [
              1,
              "#f0f921"
             ]
            ],
            "type": "histogram2dcontour"
           }
          ],
          "mesh3d": [
           {
            "colorbar": {
             "outlinewidth": 0,
             "ticks": ""
            },
            "type": "mesh3d"
           }
          ],
          "parcoords": [
           {
            "line": {
             "colorbar": {
              "outlinewidth": 0,
              "ticks": ""
             }
            },
            "type": "parcoords"
           }
          ],
          "pie": [
           {
            "automargin": true,
            "type": "pie"
           }
          ],
          "scatter": [
           {
            "fillpattern": {
             "fillmode": "overlay",
             "size": 10,
             "solidity": 0.2
            },
            "type": "scatter"
           }
          ],
          "scatter3d": [
           {
            "line": {
             "colorbar": {
              "outlinewidth": 0,
              "ticks": ""
             }
            },
            "marker": {
             "colorbar": {
              "outlinewidth": 0,
              "ticks": ""
             }
            },
            "type": "scatter3d"
           }
          ],
          "scattercarpet": [
           {
            "marker": {
             "colorbar": {
              "outlinewidth": 0,
              "ticks": ""
             }
            },
            "type": "scattercarpet"
           }
          ],
          "scattergeo": [
           {
            "marker": {
             "colorbar": {
              "outlinewidth": 0,
              "ticks": ""
             }
            },
            "type": "scattergeo"
           }
          ],
          "scattergl": [
           {
            "marker": {
             "colorbar": {
              "outlinewidth": 0,
              "ticks": ""
             }
            },
            "type": "scattergl"
           }
          ],
          "scattermapbox": [
           {
            "marker": {
             "colorbar": {
              "outlinewidth": 0,
              "ticks": ""
             }
            },
            "type": "scattermapbox"
           }
          ],
          "scatterpolar": [
           {
            "marker": {
             "colorbar": {
              "outlinewidth": 0,
              "ticks": ""
             }
            },
            "type": "scatterpolar"
           }
          ],
          "scatterpolargl": [
           {
            "marker": {
             "colorbar": {
              "outlinewidth": 0,
              "ticks": ""
             }
            },
            "type": "scatterpolargl"
           }
          ],
          "scatterternary": [
           {
            "marker": {
             "colorbar": {
              "outlinewidth": 0,
              "ticks": ""
             }
            },
            "type": "scatterternary"
           }
          ],
          "surface": [
           {
            "colorbar": {
             "outlinewidth": 0,
             "ticks": ""
            },
            "colorscale": [
             [
              0,
              "#0d0887"
             ],
             [
              0.1111111111111111,
              "#46039f"
             ],
             [
              0.2222222222222222,
              "#7201a8"
             ],
             [
              0.3333333333333333,
              "#9c179e"
             ],
             [
              0.4444444444444444,
              "#bd3786"
             ],
             [
              0.5555555555555556,
              "#d8576b"
             ],
             [
              0.6666666666666666,
              "#ed7953"
             ],
             [
              0.7777777777777778,
              "#fb9f3a"
             ],
             [
              0.8888888888888888,
              "#fdca26"
             ],
             [
              1,
              "#f0f921"
             ]
            ],
            "type": "surface"
           }
          ],
          "table": [
           {
            "cells": {
             "fill": {
              "color": "#EBF0F8"
             },
             "line": {
              "color": "white"
             }
            },
            "header": {
             "fill": {
              "color": "#C8D4E3"
             },
             "line": {
              "color": "white"
             }
            },
            "type": "table"
           }
          ]
         },
         "layout": {
          "annotationdefaults": {
           "arrowcolor": "#2a3f5f",
           "arrowhead": 0,
           "arrowwidth": 1
          },
          "autotypenumbers": "strict",
          "coloraxis": {
           "colorbar": {
            "outlinewidth": 0,
            "ticks": ""
           }
          },
          "colorscale": {
           "diverging": [
            [
             0,
             "#8e0152"
            ],
            [
             0.1,
             "#c51b7d"
            ],
            [
             0.2,
             "#de77ae"
            ],
            [
             0.3,
             "#f1b6da"
            ],
            [
             0.4,
             "#fde0ef"
            ],
            [
             0.5,
             "#f7f7f7"
            ],
            [
             0.6,
             "#e6f5d0"
            ],
            [
             0.7,
             "#b8e186"
            ],
            [
             0.8,
             "#7fbc41"
            ],
            [
             0.9,
             "#4d9221"
            ],
            [
             1,
             "#276419"
            ]
           ],
           "sequential": [
            [
             0,
             "#0d0887"
            ],
            [
             0.1111111111111111,
             "#46039f"
            ],
            [
             0.2222222222222222,
             "#7201a8"
            ],
            [
             0.3333333333333333,
             "#9c179e"
            ],
            [
             0.4444444444444444,
             "#bd3786"
            ],
            [
             0.5555555555555556,
             "#d8576b"
            ],
            [
             0.6666666666666666,
             "#ed7953"
            ],
            [
             0.7777777777777778,
             "#fb9f3a"
            ],
            [
             0.8888888888888888,
             "#fdca26"
            ],
            [
             1,
             "#f0f921"
            ]
           ],
           "sequentialminus": [
            [
             0,
             "#0d0887"
            ],
            [
             0.1111111111111111,
             "#46039f"
            ],
            [
             0.2222222222222222,
             "#7201a8"
            ],
            [
             0.3333333333333333,
             "#9c179e"
            ],
            [
             0.4444444444444444,
             "#bd3786"
            ],
            [
             0.5555555555555556,
             "#d8576b"
            ],
            [
             0.6666666666666666,
             "#ed7953"
            ],
            [
             0.7777777777777778,
             "#fb9f3a"
            ],
            [
             0.8888888888888888,
             "#fdca26"
            ],
            [
             1,
             "#f0f921"
            ]
           ]
          },
          "colorway": [
           "#636efa",
           "#EF553B",
           "#00cc96",
           "#ab63fa",
           "#FFA15A",
           "#19d3f3",
           "#FF6692",
           "#B6E880",
           "#FF97FF",
           "#FECB52"
          ],
          "font": {
           "color": "#2a3f5f"
          },
          "geo": {
           "bgcolor": "white",
           "lakecolor": "white",
           "landcolor": "#E5ECF6",
           "showlakes": true,
           "showland": true,
           "subunitcolor": "white"
          },
          "hoverlabel": {
           "align": "left"
          },
          "hovermode": "closest",
          "mapbox": {
           "style": "light"
          },
          "paper_bgcolor": "white",
          "plot_bgcolor": "#E5ECF6",
          "polar": {
           "angularaxis": {
            "gridcolor": "white",
            "linecolor": "white",
            "ticks": ""
           },
           "bgcolor": "#E5ECF6",
           "radialaxis": {
            "gridcolor": "white",
            "linecolor": "white",
            "ticks": ""
           }
          },
          "scene": {
           "xaxis": {
            "backgroundcolor": "#E5ECF6",
            "gridcolor": "white",
            "gridwidth": 2,
            "linecolor": "white",
            "showbackground": true,
            "ticks": "",
            "zerolinecolor": "white"
           },
           "yaxis": {
            "backgroundcolor": "#E5ECF6",
            "gridcolor": "white",
            "gridwidth": 2,
            "linecolor": "white",
            "showbackground": true,
            "ticks": "",
            "zerolinecolor": "white"
           },
           "zaxis": {
            "backgroundcolor": "#E5ECF6",
            "gridcolor": "white",
            "gridwidth": 2,
            "linecolor": "white",
            "showbackground": true,
            "ticks": "",
            "zerolinecolor": "white"
           }
          },
          "shapedefaults": {
           "line": {
            "color": "#2a3f5f"
           }
          },
          "ternary": {
           "aaxis": {
            "gridcolor": "white",
            "linecolor": "white",
            "ticks": ""
           },
           "baxis": {
            "gridcolor": "white",
            "linecolor": "white",
            "ticks": ""
           },
           "bgcolor": "#E5ECF6",
           "caxis": {
            "gridcolor": "white",
            "linecolor": "white",
            "ticks": ""
           }
          },
          "title": {
           "x": 0.05
          },
          "xaxis": {
           "automargin": true,
           "gridcolor": "white",
           "linecolor": "white",
           "ticks": "",
           "title": {
            "standoff": 15
           },
           "zerolinecolor": "white",
           "zerolinewidth": 2
          },
          "yaxis": {
           "automargin": true,
           "gridcolor": "white",
           "linecolor": "white",
           "ticks": "",
           "title": {
            "standoff": 15
           },
           "zerolinecolor": "white",
           "zerolinewidth": 2
          }
         }
        },
        "title": {
         "text": "Zdawalność matur i wykorzystanie obiektów sportowych w województwach Polski (2010-2022)"
        },
        "updatemenus": [
         {
          "buttons": [
           {
            "args": [
             null,
             {
              "frame": {
               "duration": 500,
               "redraw": true
              },
              "fromcurrent": true,
              "mode": "immediate",
              "transition": {
               "duration": 500,
               "easing": "linear"
              }
             }
            ],
            "label": "&#9654;",
            "method": "animate"
           },
           {
            "args": [
             [
              null
             ],
             {
              "frame": {
               "duration": 0,
               "redraw": true
              },
              "fromcurrent": true,
              "mode": "immediate",
              "transition": {
               "duration": 0,
               "easing": "linear"
              }
             }
            ],
            "label": "&#9724;",
            "method": "animate"
           }
          ],
          "direction": "left",
          "pad": {
           "r": 10,
           "t": 70
          },
          "showactive": false,
          "type": "buttons",
          "x": 0.1,
          "xanchor": "right",
          "y": 0,
          "yanchor": "top"
         }
        ],
        "width": 1100
       }
      }
     },
     "metadata": {},
     "output_type": "display_data"
    }
   ],
   "source": [
    "import pandas as pd\n",
    "import plotly.express as px\n",
    "\n",
    "# Wczytaj dane\n",
    "sports_object = pd.read_csv('boiska2.csv', sep=';')\n",
    "education = pd.read_csv('matura2.csv', sep=';')\n",
    "\n",
    "# Konwersja kolumn ze stopniem wykorzystania do typu float\n",
    "for col in [\n",
    "    'stopień wykorzystania obiektów rekreacyjno-sportowych;2010;[%]',\n",
    "    'stopień wykorzystania obiektów rekreacyjno-sportowych;2014;[%]',\n",
    "    'stopień wykorzystania obiektów rekreacyjno-sportowych;2018;[%]',\n",
    "    'stopień wykorzystania obiektów rekreacyjno-sportowych;2022;[%]'\n",
    "]:\n",
    "    sports_object[col] = sports_object[col].astype(str).str.replace(',', '.').astype(float)\n",
    "\n",
    "# Połączenie danych o obiektach sportowych i zdawalności matur\n",
    "merged_data = pd.merge(education, sports_object, on='Nazwa', how='outer')\n",
    "\n",
    "# Konwersja kolumn ze zdawalnością matur do typu float\n",
    "columns_to_convert = ['2010[%]', '2014[%]', '2018[%]', '2022[%]']\n",
    "for col in columns_to_convert:\n",
    "    merged_data[col] = merged_data[col].astype(str).str.replace(',', '.').astype(float)\n",
    "\n",
    "# Przygotowanie współrzędnych województw\n",
    "coordinates = pd.DataFrame({\n",
    "    'Nazwa': [\n",
    "        'DOLNOŚLĄSKIE', 'KUJAWSKO-POMORSKIE', 'LUBELSKIE', 'LUBUSKIE', 'ŁÓDZKIE',\n",
    "        'MAŁOPOLSKIE', 'MAZOWIECKIE', 'OPOLSKIE', 'PODKARPACKIE', 'PODLASKIE',\n",
    "        'POMORSKIE', 'ŚLĄSKIE', 'ŚWIĘTOKRZYSKIE', 'WARMIŃSKO-MAZURSKIE', \n",
    "        'WIELKOPOLSKIE', 'ZACHODNIOPOMORSKIE'\n",
    "    ],\n",
    "    'lat': [51.1, 53.0, 51.2, 52.4, 51.8, 49.9, 52.2, 50.7, 50.0, 53.1, 54.3, 50.3, 50.9, 53.8, 52.5, 53.4],\n",
    "    'lon': [16.9, 18.0, 22.5, 15.5, 19.5, 20.0, 21.0, 17.9, 22.0, 22.9, 17.6, 19.0, 20.6, 20.5, 16.9, 15.6]\n",
    "})\n",
    "\n",
    "# Dodanie współrzędnych do danych\n",
    "map_data = pd.merge(merged_data, coordinates, left_on='Nazwa', right_on='Nazwa', how='left')\n",
    "\n",
    "# Rozszerzenie danych na lata 2010, 2014, 2018 i 2022\n",
    "map_data_expanded = pd.concat([\n",
    "    map_data.assign(\n",
    "        rok=2010,\n",
    "        zdawalnosc=map_data['2010[%]'],\n",
    "        wykorzystanie=map_data['stopień wykorzystania obiektów rekreacyjno-sportowych;2010;[%]']\n",
    "    ),\n",
    "    map_data.assign(\n",
    "        rok=2014,\n",
    "        zdawalnosc=map_data['2014[%]'],\n",
    "        wykorzystanie=map_data['stopień wykorzystania obiektów rekreacyjno-sportowych;2014;[%]']\n",
    "    ),\n",
    "    map_data.assign(\n",
    "        rok=2018,\n",
    "        zdawalnosc=map_data['2018[%]'],\n",
    "        wykorzystanie=map_data['stopień wykorzystania obiektów rekreacyjno-sportowych;2018;[%]']\n",
    "    ),\n",
    "    map_data.assign(\n",
    "        rok=2022,\n",
    "        zdawalnosc=map_data['2022[%]'],\n",
    "        wykorzystanie=map_data['stopień wykorzystania obiektów rekreacyjno-sportowych;2022;[%]']\n",
    "    )\n",
    "])\n",
    "\n",
    "scaling_factor = 5 # Możesz dostosować tę wartość\n",
    "map_data_expanded['zdawalnosc_scaled'] = map_data_expanded['zdawalnosc']  * scaling_factor\n",
    "\n",
    "\n",
    "# Tworzenie mapy za pomocą plotly.express\n",
    "fig = px.scatter_mapbox(\n",
    "    map_data_expanded,\n",
    "    lat='lat',\n",
    "    lon='lon',\n",
    "    hover_name='Nazwa',\n",
    "    hover_data={\n",
    "        'zdawalnosc': True,\n",
    "        'wykorzystanie': True,\n",
    "        'lat': False,\n",
    "        'lon': False\n",
    "    },\n",
    "    size='zdawalnosc_scaled',\n",
    "    color='wykorzystanie',\n",
    "    color_continuous_scale=px.colors.sequential.Viridis,\n",
    "    animation_frame='rok',\n",
    "    size_max=30,  # Maksymalny rozmiar bąbli\n",
    "    zoom=5,\n",
    "    range_color=[70, 100]  # Stały zakres skali kolorów\n",
    ")\n",
    "\n",
    "# Ustawienia mapy\n",
    "fig.update_layout(\n",
    "    mapbox_style=\"carto-positron\",\n",
    "    margin={\"r\": 10, \"t\": 50, \"l\": 10, \"b\": 10},\n",
    "    title=\"Zdawalność matur i wykorzystanie obiektów sportowych w województwach Polski (2010-2022)\",\n",
    "    width=1100,\n",
    "    height=800\n",
    ")\n",
    "\n",
    "# Wyświetlenie mapy\n",
    "fig.show()\n"
   ]
  },
  {
   "cell_type": "code",
   "execution_count": 129,
   "metadata": {},
   "outputs": [
    {
     "data": {
      "application/vnd.plotly.v1+json": {
       "config": {
        "plotlyServerURL": "https://plot.ly"
       },
       "data": [
        {
         "customdata": [
          [
           82,
           71.7,
           51.1,
           15.9
          ],
          [
           83,
           79.1,
           53,
           18
          ],
          [
           80,
           71.9,
           51.2,
           22.5
          ],
          [
           82,
           68.8,
           52.4,
           15.5
          ],
          [
           82,
           83.6,
           52.2,
           21
          ],
          [
           83,
           76.7,
           49.9,
           20
          ],
          [
           82,
           69.6,
           50.7,
           17.9
          ],
          [
           81,
           67.1,
           50,
           22
          ],
          [
           81,
           75.1,
           53.1,
           22.9
          ],
          [
           82,
           73.2,
           54.3,
           17.6
          ],
          [
           80,
           71.4,
           53.8,
           20.5
          ],
          [
           81,
           73.3,
           52.5,
           16.9
          ],
          [
           80,
           67.6,
           53.4,
           15.6
          ],
          [
           82,
           78.7,
           51.8,
           19.5
          ],
          [
           82,
           83.5,
           50.3,
           19
          ],
          [
           80,
           74.6,
           50.9,
           20.6
          ]
         ],
         "hovertemplate": "<b>%{hovertext}</b><br><br>rok=2010<br>wykorzystanie_scaled=%{marker.size}<br>zdawalnosc=%{marker.color}<br>wykorzystanie=%{customdata[1]}<extra></extra>",
         "hovertext": [
          "DOLNOŚLĄSKIE",
          "KUJAWSKO-POMORSKIE",
          "LUBELSKIE",
          "LUBUSKIE",
          "MAZOWIECKIE",
          "MAŁOPOLSKIE",
          "OPOLSKIE",
          "PODKARPACKIE",
          "PODLASKIE",
          "POMORSKIE",
          "WARMIŃSKO-MAZURSKIE",
          "WIELKOPOLSKIE",
          "ZACHODNIOPOMORSKIE",
          "ŁÓDZKIE",
          "ŚLĄSKIE",
          "ŚWIĘTOKRZYSKIE"
         ],
         "lat": [
          51.1,
          53,
          51.2,
          52.4,
          52.2,
          49.9,
          50.7,
          50,
          53.1,
          54.3,
          53.8,
          52.5,
          53.4,
          51.8,
          50.3,
          50.9
         ],
         "legendgroup": "",
         "lon": [
          15.9,
          18,
          22.5,
          15.5,
          21,
          20,
          17.9,
          22,
          22.9,
          17.6,
          20.5,
          16.9,
          15.6,
          19.5,
          19,
          20.6
         ],
         "marker": {
          "color": [
           82,
           83,
           80,
           82,
           82,
           83,
           82,
           81,
           81,
           82,
           80,
           81,
           80,
           82,
           82,
           80
          ],
          "coloraxis": "coloraxis",
          "size": [
           3035.629312844373,
           3517.505049747619,
           3048.339543915671,
           2853.334330217894,
           3821.9008883015267,
           3358.636862627456,
           2903.2461831542973,
           2748.234483263755,
           3254.0926193026526,
           3131.386146740769,
           3016.5971888868426,
           3137.805112654385,
           2779.009607755971,
           3490.8573552925363,
           3815.0454617212627,
           3221.649173948026
          ],
          "sizemode": "area",
          "sizeref": 3.672466003555645
         },
         "mode": "markers",
         "name": "",
         "showlegend": false,
         "subplot": "mapbox",
         "type": "scattermapbox"
        }
       ],
       "frames": [
        {
         "data": [
          {
           "customdata": [
            [
             82,
             71.7,
             51.1,
             15.9
            ],
            [
             83,
             79.1,
             53,
             18
            ],
            [
             80,
             71.9,
             51.2,
             22.5
            ],
            [
             82,
             68.8,
             52.4,
             15.5
            ],
            [
             82,
             83.6,
             52.2,
             21
            ],
            [
             83,
             76.7,
             49.9,
             20
            ],
            [
             82,
             69.6,
             50.7,
             17.9
            ],
            [
             81,
             67.1,
             50,
             22
            ],
            [
             81,
             75.1,
             53.1,
             22.9
            ],
            [
             82,
             73.2,
             54.3,
             17.6
            ],
            [
             80,
             71.4,
             53.8,
             20.5
            ],
            [
             81,
             73.3,
             52.5,
             16.9
            ],
            [
             80,
             67.6,
             53.4,
             15.6
            ],
            [
             82,
             78.7,
             51.8,
             19.5
            ],
            [
             82,
             83.5,
             50.3,
             19
            ],
            [
             80,
             74.6,
             50.9,
             20.6
            ]
           ],
           "hovertemplate": "<b>%{hovertext}</b><br><br>rok=2010<br>wykorzystanie_scaled=%{marker.size}<br>zdawalnosc=%{marker.color}<br>wykorzystanie=%{customdata[1]}<extra></extra>",
           "hovertext": [
            "DOLNOŚLĄSKIE",
            "KUJAWSKO-POMORSKIE",
            "LUBELSKIE",
            "LUBUSKIE",
            "MAZOWIECKIE",
            "MAŁOPOLSKIE",
            "OPOLSKIE",
            "PODKARPACKIE",
            "PODLASKIE",
            "POMORSKIE",
            "WARMIŃSKO-MAZURSKIE",
            "WIELKOPOLSKIE",
            "ZACHODNIOPOMORSKIE",
            "ŁÓDZKIE",
            "ŚLĄSKIE",
            "ŚWIĘTOKRZYSKIE"
           ],
           "lat": [
            51.1,
            53,
            51.2,
            52.4,
            52.2,
            49.9,
            50.7,
            50,
            53.1,
            54.3,
            53.8,
            52.5,
            53.4,
            51.8,
            50.3,
            50.9
           ],
           "legendgroup": "",
           "lon": [
            15.9,
            18,
            22.5,
            15.5,
            21,
            20,
            17.9,
            22,
            22.9,
            17.6,
            20.5,
            16.9,
            15.6,
            19.5,
            19,
            20.6
           ],
           "marker": {
            "color": [
             82,
             83,
             80,
             82,
             82,
             83,
             82,
             81,
             81,
             82,
             80,
             81,
             80,
             82,
             82,
             80
            ],
            "coloraxis": "coloraxis",
            "size": [
             3035.629312844373,
             3517.505049747619,
             3048.339543915671,
             2853.334330217894,
             3821.9008883015267,
             3358.636862627456,
             2903.2461831542973,
             2748.234483263755,
             3254.0926193026526,
             3131.386146740769,
             3016.5971888868426,
             3137.805112654385,
             2779.009607755971,
             3490.8573552925363,
             3815.0454617212627,
             3221.649173948026
            ],
            "sizemode": "area",
            "sizeref": 3.672466003555645
           },
           "mode": "markers",
           "name": "",
           "showlegend": false,
           "subplot": "mapbox",
           "type": "scattermapbox"
          }
         ],
         "name": "2010"
        },
        {
         "data": [
          {
           "customdata": [
            [
             69,
             75.8,
             51.1,
             15.9
            ],
            [
             71,
             83.9,
             53,
             18
            ],
            [
             70,
             71.6,
             51.2,
             22.5
            ],
            [
             74,
             69.8,
             52.4,
             15.5
            ],
            [
             71,
             84.6,
             52.2,
             21
            ],
            [
             73,
             83.4,
             49.9,
             20
            ],
            [
             70,
             72.8,
             50.7,
             17.9
            ],
            [
             71,
             72.2,
             50,
             22
            ],
            [
             73,
             78.4,
             53.1,
             22.9
            ],
            [
             71,
             78.3,
             54.3,
             17.6
            ],
            [
             68,
             74.6,
             53.8,
             20.5
            ],
            [
             70,
             74.6,
             52.5,
             16.9
            ],
            [
             67,
             76.2,
             53.4,
             15.6
            ],
            [
             71,
             79.3,
             51.8,
             19.5
            ],
            [
             71,
             84.7,
             50.3,
             19
            ],
            [
             71,
             77.4,
             50.9,
             20.6
            ]
           ],
           "hovertemplate": "<b>%{hovertext}</b><br><br>rok=2014<br>wykorzystanie_scaled=%{marker.size}<br>zdawalnosc=%{marker.color}<br>wykorzystanie=%{customdata[1]}<extra></extra>",
           "hovertext": [
            "DOLNOŚLĄSKIE",
            "KUJAWSKO-POMORSKIE",
            "LUBELSKIE",
            "LUBUSKIE",
            "MAZOWIECKIE",
            "MAŁOPOLSKIE",
            "OPOLSKIE",
            "PODKARPACKIE",
            "PODLASKIE",
            "POMORSKIE",
            "WARMIŃSKO-MAZURSKIE",
            "WIELKOPOLSKIE",
            "ZACHODNIOPOMORSKIE",
            "ŁÓDZKIE",
            "ŚLĄSKIE",
            "ŚWIĘTOKRZYSKIE"
           ],
           "lat": [
            51.1,
            53,
            51.2,
            52.4,
            52.2,
            49.9,
            50.7,
            50,
            53.1,
            54.3,
            53.8,
            52.5,
            53.4,
            51.8,
            50.3,
            50.9
           ],
           "legendgroup": "",
           "lon": [
            15.9,
            18,
            22.5,
            15.5,
            21,
            20,
            17.9,
            22,
            22.9,
            17.6,
            20.5,
            16.9,
            15.6,
            19.5,
            19,
            20.6
           ],
           "marker": {
            "color": [
             69,
             71,
             70,
             74,
             71,
             73,
             70,
             71,
             73,
             71,
             68,
             70,
             67,
             71,
             71,
             71
            ],
            "coloraxis": "coloraxis",
            "size": [
             3299.6951071273234,
             3842.4917664192853,
             3029.2808387470445,
             2915.7691609590765,
             3890.6803261126447,
             3808.1941389587796,
             3105.7541435213443,
             3067.438051534212,
             3470.9159598008137,
             3464.2772947614917,
             3221.649173948026,
             3221.649173948026,
             3325.848493241988,
             3530.8542061376593,
             3897.580733608991,
             3404.720340938445
            ],
            "sizemode": "area",
            "sizeref": 3.672466003555645
           },
           "mode": "markers",
           "name": "",
           "showlegend": false,
           "subplot": "mapbox",
           "type": "scattermapbox"
          }
         ],
         "name": "2014"
        },
        {
         "data": [
          {
           "customdata": [
            [
             77.1,
             77.2,
             51.1,
             15.9
            ],
            [
             78.2,
             85.3,
             53,
             18
            ],
            [
             79.3,
             76.1,
             51.2,
             22.5
            ],
            [
             79.7,
             76.6,
             52.4,
             15.5
            ],
            [
             81.2,
             87.6,
             52.2,
             21
            ],
            [
             83.2,
             86.5,
             49.9,
             20
            ],
            [
             78.4,
             76.4,
             50.7,
             17.9
            ],
            [
             80.6,
             74,
             50,
             22
            ],
            [
             81.2,
             76.9,
             53.1,
             22.9
            ],
            [
             77.4,
             83.1,
             54.3,
             17.6
            ],
            [
             77.4,
             80.8,
             53.8,
             20.5
            ],
            [
             79.3,
             81.9,
             52.5,
             16.9
            ],
            [
             76.8,
             80.3,
             53.4,
             15.6
            ],
            [
             79.3,
             83.3,
             51.8,
             19.5
            ],
            [
             79.2,
             87,
             50.3,
             19
            ],
            [
             80,
             79.3,
             50.9,
             20.6
            ]
           ],
           "hovertemplate": "<b>%{hovertext}</b><br><br>rok=2018<br>wykorzystanie_scaled=%{marker.size}<br>zdawalnosc=%{marker.color}<br>wykorzystanie=%{customdata[1]}<extra></extra>",
           "hovertext": [
            "DOLNOŚLĄSKIE",
            "KUJAWSKO-POMORSKIE",
            "LUBELSKIE",
            "LUBUSKIE",
            "MAZOWIECKIE",
            "MAŁOPOLSKIE",
            "OPOLSKIE",
            "PODKARPACKIE",
            "PODLASKIE",
            "POMORSKIE",
            "WARMIŃSKO-MAZURSKIE",
            "WIELKOPOLSKIE",
            "ZACHODNIOPOMORSKIE",
            "ŁÓDZKIE",
            "ŚLĄSKIE",
            "ŚWIĘTOKRZYSKIE"
           ],
           "lat": [
            51.1,
            53,
            51.2,
            52.4,
            52.2,
            49.9,
            50.7,
            50,
            53.1,
            54.3,
            53.8,
            52.5,
            53.4,
            51.8,
            50.3,
            50.9
           ],
           "legendgroup": "",
           "lon": [
            15.9,
            18,
            22.5,
            15.5,
            21,
            20,
            17.9,
            22,
            22.9,
            17.6,
            20.5,
            16.9,
            15.6,
            19.5,
            19,
            20.6
           ],
           "marker": {
            "color": [
             77.1,
             78.2,
             79.3,
             79.7,
             81.2,
             83.2,
             78.4,
             80.6,
             81.2,
             77.4,
             77.4,
             79.3,
             76.8,
             79.3,
             79.2,
             80
            ],
            "coloraxis": "coloraxis",
            "size": [
             3391.53227907387,
             3939.06866213322,
             3319.3036958073,
             3352.0706138146907,
             4099.455378461875,
             4022.482520160902,
             3338.950972985378,
             3182.8603488057715,
             3371.78220307896,
             3787.6648181960345,
             3631.508336765868,
             3705.9184387948967,
             3597.852230845508,
             3801.3469224736646,
             4057.4098880936344,
             3530.8542061376593
            ],
            "sizemode": "area",
            "sizeref": 3.672466003555645
           },
           "mode": "markers",
           "name": "",
           "showlegend": false,
           "subplot": "mapbox",
           "type": "scattermapbox"
          }
         ],
         "name": "2018"
        },
        {
         "data": [
          {
           "customdata": [
            [
             74.8,
             87.2,
             51.1,
             15.9
            ],
            [
             76.1,
             88.8,
             53,
             18
            ],
            [
             77.1,
             86.3,
             51.2,
             22.5
            ],
            [
             77.2,
             85.7,
             52.4,
             15.5
            ],
            [
             81.8,
             93.2,
             52.2,
             21
            ],
            [
             82.1,
             88.8,
             49.9,
             20
            ],
            [
             76.5,
             84.6,
             50.7,
             17.9
            ],
            [
             78.8,
             82.2,
             50,
             22
            ],
            [
             76.2,
             85.7,
             53.1,
             22.9
            ],
            [
             76.3,
             89.7,
             54.3,
             17.6
            ],
            [
             75.6,
             86.5,
             53.8,
             20.5
            ],
            [
             77.8,
             88.4,
             52.5,
             16.9
            ],
            [
             75.7,
             88.1,
             53.4,
             15.6
            ],
            [
             77,
             88.6,
             51.8,
             19.5
            ],
            [
             77.7,
             91.4,
             50.3,
             19
            ],
            [
             77.9,
             86.6,
             50.9,
             20.6
            ]
           ],
           "hovertemplate": "<b>%{hovertext}</b><br><br>rok=2022<br>wykorzystanie_scaled=%{marker.size}<br>zdawalnosc=%{marker.color}<br>wykorzystanie=%{customdata[1]}<extra></extra>",
           "hovertext": [
            "DOLNOŚLĄSKIE",
            "KUJAWSKO-POMORSKIE",
            "LUBELSKIE",
            "LUBUSKIE",
            "MAZOWIECKIE",
            "MAŁOPOLSKIE",
            "OPOLSKIE",
            "PODKARPACKIE",
            "PODLASKIE",
            "POMORSKIE",
            "WARMIŃSKO-MAZURSKIE",
            "WIELKOPOLSKIE",
            "ZACHODNIOPOMORSKIE",
            "ŁÓDZKIE",
            "ŚLĄSKIE",
            "ŚWIĘTOKRZYSKIE"
           ],
           "lat": [
            51.1,
            53,
            51.2,
            52.4,
            52.2,
            49.9,
            50.7,
            50,
            53.1,
            54.3,
            53.8,
            52.5,
            53.4,
            51.8,
            50.3,
            50.9
           ],
           "legendgroup": "",
           "lon": [
            15.9,
            18,
            22.5,
            15.5,
            21,
            20,
            17.9,
            22,
            22.9,
            17.6,
            20.5,
            16.9,
            15.6,
            19.5,
            19,
            20.6
           ],
           "marker": {
            "color": [
             74.8,
             76.1,
             77.1,
             77.2,
             81.8,
             82.1,
             76.5,
             78.8,
             76.2,
             76.3,
             75.6,
             77.8,
             75.7,
             77,
             77.7,
             77.9
            ],
            "coloraxis": "coloraxis",
            "size": [
             4071.408994439149,
             4183.978585031237,
             4008.539780892788,
             3966.808518822153,
             4498.7708543556655,
             4183.978585031237,
             3890.6803261126447,
             3726.2992633442636,
             3966.808518822153,
             4247.747264727505,
             4022.482520160902,
             4155.740319124861,
             4134.603490662677,
             4169.8514841658325,
             4369.07296803338,
             4029.45993899927
            ],
            "sizemode": "area",
            "sizeref": 3.672466003555645
           },
           "mode": "markers",
           "name": "",
           "showlegend": false,
           "subplot": "mapbox",
           "type": "scattermapbox"
          }
         ],
         "name": "2022"
        }
       ],
       "layout": {
        "coloraxis": {
         "cmax": 85,
         "cmin": 65,
         "colorbar": {
          "title": {
           "text": "zdawalnosc"
          }
         },
         "colorscale": [
          [
           0,
           "#440154"
          ],
          [
           0.1111111111111111,
           "#482878"
          ],
          [
           0.2222222222222222,
           "#3e4989"
          ],
          [
           0.3333333333333333,
           "#31688e"
          ],
          [
           0.4444444444444444,
           "#26828e"
          ],
          [
           0.5555555555555556,
           "#1f9e89"
          ],
          [
           0.6666666666666666,
           "#35b779"
          ],
          [
           0.7777777777777778,
           "#6ece58"
          ],
          [
           0.8888888888888888,
           "#b5de2b"
          ],
          [
           1,
           "#fde725"
          ]
         ]
        },
        "height": 800,
        "legend": {
         "itemsizing": "constant",
         "tracegroupgap": 0
        },
        "mapbox": {
         "center": {
          "lat": 51.912499999999994,
          "lon": 19.0875
         },
         "domain": {
          "x": [
           0,
           1
          ],
          "y": [
           0,
           1
          ]
         },
         "style": "carto-positron",
         "zoom": 5
        },
        "margin": {
         "b": 10,
         "l": 10,
         "r": 10,
         "t": 50
        },
        "sliders": [
         {
          "active": 0,
          "currentvalue": {
           "prefix": "rok="
          },
          "len": 0.9,
          "pad": {
           "b": 10,
           "t": 60
          },
          "steps": [
           {
            "args": [
             [
              "2010"
             ],
             {
              "frame": {
               "duration": 0,
               "redraw": true
              },
              "fromcurrent": true,
              "mode": "immediate",
              "transition": {
               "duration": 0,
               "easing": "linear"
              }
             }
            ],
            "label": "2010",
            "method": "animate"
           },
           {
            "args": [
             [
              "2014"
             ],
             {
              "frame": {
               "duration": 0,
               "redraw": true
              },
              "fromcurrent": true,
              "mode": "immediate",
              "transition": {
               "duration": 0,
               "easing": "linear"
              }
             }
            ],
            "label": "2014",
            "method": "animate"
           },
           {
            "args": [
             [
              "2018"
             ],
             {
              "frame": {
               "duration": 0,
               "redraw": true
              },
              "fromcurrent": true,
              "mode": "immediate",
              "transition": {
               "duration": 0,
               "easing": "linear"
              }
             }
            ],
            "label": "2018",
            "method": "animate"
           },
           {
            "args": [
             [
              "2022"
             ],
             {
              "frame": {
               "duration": 0,
               "redraw": true
              },
              "fromcurrent": true,
              "mode": "immediate",
              "transition": {
               "duration": 0,
               "easing": "linear"
              }
             }
            ],
            "label": "2022",
            "method": "animate"
           }
          ],
          "x": 0.1,
          "xanchor": "left",
          "y": 0,
          "yanchor": "top"
         }
        ],
        "template": {
         "data": {
          "bar": [
           {
            "error_x": {
             "color": "#2a3f5f"
            },
            "error_y": {
             "color": "#2a3f5f"
            },
            "marker": {
             "line": {
              "color": "#E5ECF6",
              "width": 0.5
             },
             "pattern": {
              "fillmode": "overlay",
              "size": 10,
              "solidity": 0.2
             }
            },
            "type": "bar"
           }
          ],
          "barpolar": [
           {
            "marker": {
             "line": {
              "color": "#E5ECF6",
              "width": 0.5
             },
             "pattern": {
              "fillmode": "overlay",
              "size": 10,
              "solidity": 0.2
             }
            },
            "type": "barpolar"
           }
          ],
          "carpet": [
           {
            "aaxis": {
             "endlinecolor": "#2a3f5f",
             "gridcolor": "white",
             "linecolor": "white",
             "minorgridcolor": "white",
             "startlinecolor": "#2a3f5f"
            },
            "baxis": {
             "endlinecolor": "#2a3f5f",
             "gridcolor": "white",
             "linecolor": "white",
             "minorgridcolor": "white",
             "startlinecolor": "#2a3f5f"
            },
            "type": "carpet"
           }
          ],
          "choropleth": [
           {
            "colorbar": {
             "outlinewidth": 0,
             "ticks": ""
            },
            "type": "choropleth"
           }
          ],
          "contour": [
           {
            "colorbar": {
             "outlinewidth": 0,
             "ticks": ""
            },
            "colorscale": [
             [
              0,
              "#0d0887"
             ],
             [
              0.1111111111111111,
              "#46039f"
             ],
             [
              0.2222222222222222,
              "#7201a8"
             ],
             [
              0.3333333333333333,
              "#9c179e"
             ],
             [
              0.4444444444444444,
              "#bd3786"
             ],
             [
              0.5555555555555556,
              "#d8576b"
             ],
             [
              0.6666666666666666,
              "#ed7953"
             ],
             [
              0.7777777777777778,
              "#fb9f3a"
             ],
             [
              0.8888888888888888,
              "#fdca26"
             ],
             [
              1,
              "#f0f921"
             ]
            ],
            "type": "contour"
           }
          ],
          "contourcarpet": [
           {
            "colorbar": {
             "outlinewidth": 0,
             "ticks": ""
            },
            "type": "contourcarpet"
           }
          ],
          "heatmap": [
           {
            "colorbar": {
             "outlinewidth": 0,
             "ticks": ""
            },
            "colorscale": [
             [
              0,
              "#0d0887"
             ],
             [
              0.1111111111111111,
              "#46039f"
             ],
             [
              0.2222222222222222,
              "#7201a8"
             ],
             [
              0.3333333333333333,
              "#9c179e"
             ],
             [
              0.4444444444444444,
              "#bd3786"
             ],
             [
              0.5555555555555556,
              "#d8576b"
             ],
             [
              0.6666666666666666,
              "#ed7953"
             ],
             [
              0.7777777777777778,
              "#fb9f3a"
             ],
             [
              0.8888888888888888,
              "#fdca26"
             ],
             [
              1,
              "#f0f921"
             ]
            ],
            "type": "heatmap"
           }
          ],
          "heatmapgl": [
           {
            "colorbar": {
             "outlinewidth": 0,
             "ticks": ""
            },
            "colorscale": [
             [
              0,
              "#0d0887"
             ],
             [
              0.1111111111111111,
              "#46039f"
             ],
             [
              0.2222222222222222,
              "#7201a8"
             ],
             [
              0.3333333333333333,
              "#9c179e"
             ],
             [
              0.4444444444444444,
              "#bd3786"
             ],
             [
              0.5555555555555556,
              "#d8576b"
             ],
             [
              0.6666666666666666,
              "#ed7953"
             ],
             [
              0.7777777777777778,
              "#fb9f3a"
             ],
             [
              0.8888888888888888,
              "#fdca26"
             ],
             [
              1,
              "#f0f921"
             ]
            ],
            "type": "heatmapgl"
           }
          ],
          "histogram": [
           {
            "marker": {
             "pattern": {
              "fillmode": "overlay",
              "size": 10,
              "solidity": 0.2
             }
            },
            "type": "histogram"
           }
          ],
          "histogram2d": [
           {
            "colorbar": {
             "outlinewidth": 0,
             "ticks": ""
            },
            "colorscale": [
             [
              0,
              "#0d0887"
             ],
             [
              0.1111111111111111,
              "#46039f"
             ],
             [
              0.2222222222222222,
              "#7201a8"
             ],
             [
              0.3333333333333333,
              "#9c179e"
             ],
             [
              0.4444444444444444,
              "#bd3786"
             ],
             [
              0.5555555555555556,
              "#d8576b"
             ],
             [
              0.6666666666666666,
              "#ed7953"
             ],
             [
              0.7777777777777778,
              "#fb9f3a"
             ],
             [
              0.8888888888888888,
              "#fdca26"
             ],
             [
              1,
              "#f0f921"
             ]
            ],
            "type": "histogram2d"
           }
          ],
          "histogram2dcontour": [
           {
            "colorbar": {
             "outlinewidth": 0,
             "ticks": ""
            },
            "colorscale": [
             [
              0,
              "#0d0887"
             ],
             [
              0.1111111111111111,
              "#46039f"
             ],
             [
              0.2222222222222222,
              "#7201a8"
             ],
             [
              0.3333333333333333,
              "#9c179e"
             ],
             [
              0.4444444444444444,
              "#bd3786"
             ],
             [
              0.5555555555555556,
              "#d8576b"
             ],
             [
              0.6666666666666666,
              "#ed7953"
             ],
             [
              0.7777777777777778,
              "#fb9f3a"
             ],
             [
              0.8888888888888888,
              "#fdca26"
             ],
             [
              1,
              "#f0f921"
             ]
            ],
            "type": "histogram2dcontour"
           }
          ],
          "mesh3d": [
           {
            "colorbar": {
             "outlinewidth": 0,
             "ticks": ""
            },
            "type": "mesh3d"
           }
          ],
          "parcoords": [
           {
            "line": {
             "colorbar": {
              "outlinewidth": 0,
              "ticks": ""
             }
            },
            "type": "parcoords"
           }
          ],
          "pie": [
           {
            "automargin": true,
            "type": "pie"
           }
          ],
          "scatter": [
           {
            "fillpattern": {
             "fillmode": "overlay",
             "size": 10,
             "solidity": 0.2
            },
            "type": "scatter"
           }
          ],
          "scatter3d": [
           {
            "line": {
             "colorbar": {
              "outlinewidth": 0,
              "ticks": ""
             }
            },
            "marker": {
             "colorbar": {
              "outlinewidth": 0,
              "ticks": ""
             }
            },
            "type": "scatter3d"
           }
          ],
          "scattercarpet": [
           {
            "marker": {
             "colorbar": {
              "outlinewidth": 0,
              "ticks": ""
             }
            },
            "type": "scattercarpet"
           }
          ],
          "scattergeo": [
           {
            "marker": {
             "colorbar": {
              "outlinewidth": 0,
              "ticks": ""
             }
            },
            "type": "scattergeo"
           }
          ],
          "scattergl": [
           {
            "marker": {
             "colorbar": {
              "outlinewidth": 0,
              "ticks": ""
             }
            },
            "type": "scattergl"
           }
          ],
          "scattermapbox": [
           {
            "marker": {
             "colorbar": {
              "outlinewidth": 0,
              "ticks": ""
             }
            },
            "type": "scattermapbox"
           }
          ],
          "scatterpolar": [
           {
            "marker": {
             "colorbar": {
              "outlinewidth": 0,
              "ticks": ""
             }
            },
            "type": "scatterpolar"
           }
          ],
          "scatterpolargl": [
           {
            "marker": {
             "colorbar": {
              "outlinewidth": 0,
              "ticks": ""
             }
            },
            "type": "scatterpolargl"
           }
          ],
          "scatterternary": [
           {
            "marker": {
             "colorbar": {
              "outlinewidth": 0,
              "ticks": ""
             }
            },
            "type": "scatterternary"
           }
          ],
          "surface": [
           {
            "colorbar": {
             "outlinewidth": 0,
             "ticks": ""
            },
            "colorscale": [
             [
              0,
              "#0d0887"
             ],
             [
              0.1111111111111111,
              "#46039f"
             ],
             [
              0.2222222222222222,
              "#7201a8"
             ],
             [
              0.3333333333333333,
              "#9c179e"
             ],
             [
              0.4444444444444444,
              "#bd3786"
             ],
             [
              0.5555555555555556,
              "#d8576b"
             ],
             [
              0.6666666666666666,
              "#ed7953"
             ],
             [
              0.7777777777777778,
              "#fb9f3a"
             ],
             [
              0.8888888888888888,
              "#fdca26"
             ],
             [
              1,
              "#f0f921"
             ]
            ],
            "type": "surface"
           }
          ],
          "table": [
           {
            "cells": {
             "fill": {
              "color": "#EBF0F8"
             },
             "line": {
              "color": "white"
             }
            },
            "header": {
             "fill": {
              "color": "#C8D4E3"
             },
             "line": {
              "color": "white"
             }
            },
            "type": "table"
           }
          ]
         },
         "layout": {
          "annotationdefaults": {
           "arrowcolor": "#2a3f5f",
           "arrowhead": 0,
           "arrowwidth": 1
          },
          "autotypenumbers": "strict",
          "coloraxis": {
           "colorbar": {
            "outlinewidth": 0,
            "ticks": ""
           }
          },
          "colorscale": {
           "diverging": [
            [
             0,
             "#8e0152"
            ],
            [
             0.1,
             "#c51b7d"
            ],
            [
             0.2,
             "#de77ae"
            ],
            [
             0.3,
             "#f1b6da"
            ],
            [
             0.4,
             "#fde0ef"
            ],
            [
             0.5,
             "#f7f7f7"
            ],
            [
             0.6,
             "#e6f5d0"
            ],
            [
             0.7,
             "#b8e186"
            ],
            [
             0.8,
             "#7fbc41"
            ],
            [
             0.9,
             "#4d9221"
            ],
            [
             1,
             "#276419"
            ]
           ],
           "sequential": [
            [
             0,
             "#0d0887"
            ],
            [
             0.1111111111111111,
             "#46039f"
            ],
            [
             0.2222222222222222,
             "#7201a8"
            ],
            [
             0.3333333333333333,
             "#9c179e"
            ],
            [
             0.4444444444444444,
             "#bd3786"
            ],
            [
             0.5555555555555556,
             "#d8576b"
            ],
            [
             0.6666666666666666,
             "#ed7953"
            ],
            [
             0.7777777777777778,
             "#fb9f3a"
            ],
            [
             0.8888888888888888,
             "#fdca26"
            ],
            [
             1,
             "#f0f921"
            ]
           ],
           "sequentialminus": [
            [
             0,
             "#0d0887"
            ],
            [
             0.1111111111111111,
             "#46039f"
            ],
            [
             0.2222222222222222,
             "#7201a8"
            ],
            [
             0.3333333333333333,
             "#9c179e"
            ],
            [
             0.4444444444444444,
             "#bd3786"
            ],
            [
             0.5555555555555556,
             "#d8576b"
            ],
            [
             0.6666666666666666,
             "#ed7953"
            ],
            [
             0.7777777777777778,
             "#fb9f3a"
            ],
            [
             0.8888888888888888,
             "#fdca26"
            ],
            [
             1,
             "#f0f921"
            ]
           ]
          },
          "colorway": [
           "#636efa",
           "#EF553B",
           "#00cc96",
           "#ab63fa",
           "#FFA15A",
           "#19d3f3",
           "#FF6692",
           "#B6E880",
           "#FF97FF",
           "#FECB52"
          ],
          "font": {
           "color": "#2a3f5f"
          },
          "geo": {
           "bgcolor": "white",
           "lakecolor": "white",
           "landcolor": "#E5ECF6",
           "showlakes": true,
           "showland": true,
           "subunitcolor": "white"
          },
          "hoverlabel": {
           "align": "left"
          },
          "hovermode": "closest",
          "mapbox": {
           "style": "light"
          },
          "paper_bgcolor": "white",
          "plot_bgcolor": "#E5ECF6",
          "polar": {
           "angularaxis": {
            "gridcolor": "white",
            "linecolor": "white",
            "ticks": ""
           },
           "bgcolor": "#E5ECF6",
           "radialaxis": {
            "gridcolor": "white",
            "linecolor": "white",
            "ticks": ""
           }
          },
          "scene": {
           "xaxis": {
            "backgroundcolor": "#E5ECF6",
            "gridcolor": "white",
            "gridwidth": 2,
            "linecolor": "white",
            "showbackground": true,
            "ticks": "",
            "zerolinecolor": "white"
           },
           "yaxis": {
            "backgroundcolor": "#E5ECF6",
            "gridcolor": "white",
            "gridwidth": 2,
            "linecolor": "white",
            "showbackground": true,
            "ticks": "",
            "zerolinecolor": "white"
           },
           "zaxis": {
            "backgroundcolor": "#E5ECF6",
            "gridcolor": "white",
            "gridwidth": 2,
            "linecolor": "white",
            "showbackground": true,
            "ticks": "",
            "zerolinecolor": "white"
           }
          },
          "shapedefaults": {
           "line": {
            "color": "#2a3f5f"
           }
          },
          "ternary": {
           "aaxis": {
            "gridcolor": "white",
            "linecolor": "white",
            "ticks": ""
           },
           "baxis": {
            "gridcolor": "white",
            "linecolor": "white",
            "ticks": ""
           },
           "bgcolor": "#E5ECF6",
           "caxis": {
            "gridcolor": "white",
            "linecolor": "white",
            "ticks": ""
           }
          },
          "title": {
           "x": 0.05
          },
          "xaxis": {
           "automargin": true,
           "gridcolor": "white",
           "linecolor": "white",
           "ticks": "",
           "title": {
            "standoff": 15
           },
           "zerolinecolor": "white",
           "zerolinewidth": 2
          },
          "yaxis": {
           "automargin": true,
           "gridcolor": "white",
           "linecolor": "white",
           "ticks": "",
           "title": {
            "standoff": 15
           },
           "zerolinecolor": "white",
           "zerolinewidth": 2
          }
         }
        },
        "title": {
         "text": "Zdawalność matur (kolory) i wykorzystanie obiektów sportowych (rozmiar bąbli) w województwach Polski (2010-2022)"
        },
        "updatemenus": [
         {
          "buttons": [
           {
            "args": [
             null,
             {
              "frame": {
               "duration": 500,
               "redraw": true
              },
              "fromcurrent": true,
              "mode": "immediate",
              "transition": {
               "duration": 500,
               "easing": "linear"
              }
             }
            ],
            "label": "&#9654;",
            "method": "animate"
           },
           {
            "args": [
             [
              null
             ],
             {
              "frame": {
               "duration": 0,
               "redraw": true
              },
              "fromcurrent": true,
              "mode": "immediate",
              "transition": {
               "duration": 0,
               "easing": "linear"
              }
             }
            ],
            "label": "&#9724;",
            "method": "animate"
           }
          ],
          "direction": "left",
          "pad": {
           "r": 10,
           "t": 70
          },
          "showactive": false,
          "type": "buttons",
          "x": 0.1,
          "xanchor": "right",
          "y": 0,
          "yanchor": "top"
         }
        ],
        "width": 1100
       }
      }
     },
     "metadata": {},
     "output_type": "display_data"
    }
   ],
   "source": [
    "import pandas as pd\n",
    "import plotly.express as px\n",
    "\n",
    "# Wczytaj dane\n",
    "sports_object = pd.read_csv('boiska2.csv', sep=';')\n",
    "education = pd.read_csv('matura2.csv', sep=';')\n",
    "\n",
    "# Konwersja kolumn ze stopniem wykorzystania do typu float\n",
    "for col in [\n",
    "    'stopień wykorzystania obiektów rekreacyjno-sportowych;2010;[%]',\n",
    "    'stopień wykorzystania obiektów rekreacyjno-sportowych;2014;[%]',\n",
    "    'stopień wykorzystania obiektów rekreacyjno-sportowych;2018;[%]',\n",
    "    'stopień wykorzystania obiektów rekreacyjno-sportowych;2022;[%]'\n",
    "]:\n",
    "    sports_object[col] = sports_object[col].astype(str).str.replace(',', '.').astype(float)\n",
    "\n",
    "# Połączenie danych o obiektach sportowych i zdawalności matur\n",
    "merged_data = pd.merge(education, sports_object, on='Nazwa', how='outer')\n",
    "\n",
    "# Konwersja kolumn ze zdawalnością matur do typu float\n",
    "columns_to_convert = ['2010[%]', '2014[%]', '2018[%]', '2022[%]']\n",
    "for col in columns_to_convert:\n",
    "    merged_data[col] = merged_data[col].astype(str).str.replace(',', '.').astype(float)\n",
    "\n",
    "# Przygotowanie współrzędnych województw\n",
    "coordinates = pd.DataFrame({\n",
    "    'Nazwa': [\n",
    "        'DOLNOŚLĄSKIE', 'KUJAWSKO-POMORSKIE', 'LUBELSKIE', 'LUBUSKIE', 'ŁÓDZKIE',\n",
    "        'MAŁOPOLSKIE', 'MAZOWIECKIE', 'OPOLSKIE', 'PODKARPACKIE', 'PODLASKIE',\n",
    "        'POMORSKIE', 'ŚLĄSKIE', 'ŚWIĘTOKRZYSKIE', 'WARMIŃSKO-MAZURSKIE', \n",
    "        'WIELKOPOLSKIE', 'ZACHODNIOPOMORSKIE'\n",
    "    ],\n",
    "    'lat': [51.1, 53.0, 51.2, 52.4, 51.8, 49.9, 52.2, 50.7, 50.0, 53.1, 54.3, 50.3, 50.9, 53.8, 52.5, 53.4],\n",
    "    'lon': [15.9, 18.0, 22.5, 15.5, 19.5, 20.0, 21.0, 17.9, 22.0, 22.9, 17.6, 19.0, 20.6, 20.5, 16.9, 15.6]\n",
    "})\n",
    "\n",
    "# Dodanie współrzędnych do danych\n",
    "map_data = pd.merge(merged_data, coordinates, left_on='Nazwa', right_on='Nazwa', how='left')\n",
    "\n",
    "# Rozszerzenie danych na lata 2010, 2014, 2018 i 2022\n",
    "map_data_expanded = pd.concat([\n",
    "    map_data.assign(\n",
    "        rok=2010,\n",
    "        zdawalnosc=map_data['2010[%]'],\n",
    "        wykorzystanie=map_data['stopień wykorzystania obiektów rekreacyjno-sportowych;2010;[%]']\n",
    "    ),\n",
    "    map_data.assign(\n",
    "        rok=2014,\n",
    "        zdawalnosc=map_data['2014[%]'],\n",
    "        wykorzystanie=map_data['stopień wykorzystania obiektów rekreacyjno-sportowych;2014;[%]']\n",
    "    ),\n",
    "    map_data.assign(\n",
    "        rok=2018,\n",
    "        zdawalnosc=map_data['2018[%]'],\n",
    "        wykorzystanie=map_data['stopień wykorzystania obiektów rekreacyjno-sportowych;2018;[%]']\n",
    "    ),\n",
    "    map_data.assign(\n",
    "        rok=2022,\n",
    "        zdawalnosc=map_data['2022[%]'],\n",
    "        wykorzystanie=map_data['stopień wykorzystania obiektów rekreacyjno-sportowych;2022;[%]']\n",
    "    )\n",
    "])\n",
    "\n",
    "# Skala rozmiaru bąbli\n",
    "scaling_factor = 5  # Możesz dostosować tę wartość\n",
    "map_data_expanded['wykorzystanie_scaled'] = map_data_expanded['wykorzystanie'] ** 1.5 * scaling_factor\n",
    "\n",
    "# Tworzenie mapy za pomocą plotly.express\n",
    "fig = px.scatter_mapbox(\n",
    "    map_data_expanded,\n",
    "    lat='lat',\n",
    "    lon='lon',\n",
    "    hover_name='Nazwa',\n",
    "    hover_data={\n",
    "        'zdawalnosc': True,\n",
    "        'wykorzystanie': True,\n",
    "        'lat': False,\n",
    "        'lon': False\n",
    "    },\n",
    "    size='wykorzystanie_scaled',  # Rozmiar zależny od wykorzystania obiektów\n",
    "    color='zdawalnosc',  # Kolor zależny od zdawalności matur\n",
    "    color_continuous_scale=px.colors.sequential.Viridis,\n",
    "    animation_frame='rok',\n",
    "    size_max=35,  # Maksymalny rozmiar bąbli\n",
    "    zoom=5,\n",
    "    range_color=[65, 85]  # Stały zakres skali kolorów\n",
    ")\n",
    "\n",
    "# Ustawienia mapy\n",
    "fig.update_layout(\n",
    "    mapbox_style=\"carto-positron\",\n",
    "    margin={\"r\": 10, \"t\": 50, \"l\": 10, \"b\": 10},\n",
    "    title=\"Zdawalność matur (kolory) i wykorzystanie obiektów sportowych (rozmiar bąbli) w województwach Polski (2010-2022)\",\n",
    "    width=1100,\n",
    "    height=800\n",
    ")\n",
    "\n",
    "# Wyświetlenie mapy\n",
    "fig.show()\n"
   ]
  }
 ],
 "metadata": {
  "kernelspec": {
   "display_name": "base",
   "language": "python",
   "name": "python3"
  },
  "language_info": {
   "codemirror_mode": {
    "name": "ipython",
    "version": 3
   },
   "file_extension": ".py",
   "mimetype": "text/x-python",
   "name": "python",
   "nbconvert_exporter": "python",
   "pygments_lexer": "ipython3",
   "version": "3.12.4"
  }
 },
 "nbformat": 4,
 "nbformat_minor": 2
}
